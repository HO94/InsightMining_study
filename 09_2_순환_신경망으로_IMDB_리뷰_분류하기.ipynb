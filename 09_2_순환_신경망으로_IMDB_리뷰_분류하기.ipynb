{
  "nbformat": 4,
  "nbformat_minor": 0,
  "metadata": {
    "colab": {
      "name": "09-2 순환 신경망으로 IMDB 리뷰 분류하기",
      "provenance": [],
      "collapsed_sections": [],
      "authorship_tag": "ABX9TyNL3ZOJDUwozHB4RXGVi2AT",
      "include_colab_link": true
    },
    "kernelspec": {
      "name": "python3",
      "display_name": "Python 3"
    },
    "language_info": {
      "name": "python"
    }
  },
  "cells": [
    {
      "cell_type": "markdown",
      "metadata": {
        "id": "view-in-github",
        "colab_type": "text"
      },
      "source": [
        "<a href=\"https://colab.research.google.com/github/HO94/InsightMining_HonGong/blob/main/09_2_%EC%88%9C%ED%99%98_%EC%8B%A0%EA%B2%BD%EB%A7%9D%EC%9C%BC%EB%A1%9C_IMDB_%EB%A6%AC%EB%B7%B0_%EB%B6%84%EB%A5%98%ED%95%98%EA%B8%B0.ipynb\" target=\"_parent\"><img src=\"https://colab.research.google.com/assets/colab-badge.svg\" alt=\"Open In Colab\"/></a>"
      ]
    },
    {
      "cell_type": "markdown",
      "metadata": {
        "id": "H7zpXlu3cI9O"
      },
      "source": [
        "# IMDB 리뷰 데이터셋"
      ]
    },
    {
      "cell_type": "code",
      "metadata": {
        "colab": {
          "base_uri": "https://localhost:8080/"
        },
        "id": "JbzJYLM2cT85",
        "outputId": "15738305-70c7-48c1-e20b-3400bb839f2e"
      },
      "source": [
        "from tensorflow.keras.datasets import imdb\n",
        "(train_input, train_target), (test_input, test_target) = imdb.load_data(num_words = 500)"
      ],
      "execution_count": null,
      "outputs": [
        {
          "output_type": "stream",
          "text": [
            "Downloading data from https://storage.googleapis.com/tensorflow/tf-keras-datasets/imdb.npz\n",
            "17465344/17464789 [==============================] - 0s 0us/step\n"
          ],
          "name": "stdout"
        },
        {
          "output_type": "stream",
          "text": [
            "<string>:6: VisibleDeprecationWarning: Creating an ndarray from ragged nested sequences (which is a list-or-tuple of lists-or-tuples-or ndarrays with different lengths or shapes) is deprecated. If you meant to do this, you must specify 'dtype=object' when creating the ndarray\n",
            "/usr/local/lib/python3.7/dist-packages/tensorflow/python/keras/datasets/imdb.py:155: VisibleDeprecationWarning: Creating an ndarray from ragged nested sequences (which is a list-or-tuple of lists-or-tuples-or ndarrays with different lengths or shapes) is deprecated. If you meant to do this, you must specify 'dtype=object' when creating the ndarray\n",
            "  x_train, y_train = np.array(xs[:idx]), np.array(labels[:idx])\n",
            "/usr/local/lib/python3.7/dist-packages/tensorflow/python/keras/datasets/imdb.py:156: VisibleDeprecationWarning: Creating an ndarray from ragged nested sequences (which is a list-or-tuple of lists-or-tuples-or ndarrays with different lengths or shapes) is deprecated. If you meant to do this, you must specify 'dtype=object' when creating the ndarray\n",
            "  x_test, y_test = np.array(xs[idx:]), np.array(labels[idx:])\n"
          ],
          "name": "stderr"
        }
      ]
    },
    {
      "cell_type": "code",
      "metadata": {
        "id": "h11o_M1Bc5uo",
        "colab": {
          "base_uri": "https://localhost:8080/"
        },
        "outputId": "0b766f46-e074-48ee-ce40-d5172108de2c"
      },
      "source": [
        "print(train_input.shape, test_input.shape)"
      ],
      "execution_count": null,
      "outputs": [
        {
          "output_type": "stream",
          "text": [
            "(25000,) (25000,)\n"
          ],
          "name": "stdout"
        }
      ]
    },
    {
      "cell_type": "markdown",
      "metadata": {
        "id": "6H6y0CvUdbLU"
      },
      "source": [
        "IMDB 리뷰 텍스트는 길이가 제각각  \n",
        "고정 크기의 2차원 배열에 담기보다는 리뷰마다 별도의 파이썬 리스트로 담아야 메모리를 효율적으로 사용할 수 있음"
      ]
    },
    {
      "cell_type": "code",
      "metadata": {
        "colab": {
          "base_uri": "https://localhost:8080/"
        },
        "id": "nxCg3QIDdBx0",
        "outputId": "3c1b6ae7-1995-4d82-d684-796407890032"
      },
      "source": [
        "# 첫 번째 리뷰의 길이\n",
        "print(len(train_input[0]))"
      ],
      "execution_count": null,
      "outputs": [
        {
          "output_type": "stream",
          "text": [
            "218\n"
          ],
          "name": "stdout"
        }
      ]
    },
    {
      "cell_type": "code",
      "metadata": {
        "colab": {
          "base_uri": "https://localhost:8080/"
        },
        "id": "xc6_X4AjdOrf",
        "outputId": "9acfa7df-c6a4-47e0-a0a1-13fc8be6ff02"
      },
      "source": [
        "# 두 번째 리뷰의 길이\n",
        "print(len(train_input[1]))"
      ],
      "execution_count": null,
      "outputs": [
        {
          "output_type": "stream",
          "text": [
            "189\n"
          ],
          "name": "stdout"
        }
      ]
    },
    {
      "cell_type": "code",
      "metadata": {
        "colab": {
          "base_uri": "https://localhost:8080/"
        },
        "id": "7LK6uU3NdSLe",
        "outputId": "182b1c28-980e-4c68-8bcd-3b2bcae5dbd1"
      },
      "source": [
        "# 첫 번째 리뷰에 담긴 내용 확인하기\n",
        "print(train_input[0])"
      ],
      "execution_count": null,
      "outputs": [
        {
          "output_type": "stream",
          "text": [
            "[1, 14, 22, 16, 43, 2, 2, 2, 2, 65, 458, 2, 66, 2, 4, 173, 36, 256, 5, 25, 100, 43, 2, 112, 50, 2, 2, 9, 35, 480, 284, 5, 150, 4, 172, 112, 167, 2, 336, 385, 39, 4, 172, 2, 2, 17, 2, 38, 13, 447, 4, 192, 50, 16, 6, 147, 2, 19, 14, 22, 4, 2, 2, 469, 4, 22, 71, 87, 12, 16, 43, 2, 38, 76, 15, 13, 2, 4, 22, 17, 2, 17, 12, 16, 2, 18, 2, 5, 62, 386, 12, 8, 316, 8, 106, 5, 4, 2, 2, 16, 480, 66, 2, 33, 4, 130, 12, 16, 38, 2, 5, 25, 124, 51, 36, 135, 48, 25, 2, 33, 6, 22, 12, 215, 28, 77, 52, 5, 14, 407, 16, 82, 2, 8, 4, 107, 117, 2, 15, 256, 4, 2, 7, 2, 5, 2, 36, 71, 43, 2, 476, 26, 400, 317, 46, 7, 4, 2, 2, 13, 104, 88, 4, 381, 15, 297, 98, 32, 2, 56, 26, 141, 6, 194, 2, 18, 4, 226, 22, 21, 134, 476, 26, 480, 5, 144, 30, 2, 18, 51, 36, 28, 224, 92, 25, 104, 4, 226, 65, 16, 38, 2, 88, 12, 16, 283, 5, 16, 2, 113, 103, 32, 15, 16, 2, 19, 178, 32]\n"
          ],
          "name": "stdout"
        }
      ]
    },
    {
      "cell_type": "markdown",
      "metadata": {
        "id": "-p3HcFVZdUu_"
      },
      "source": [
        "IMDB 리뷰 데이터는 이미 정수로 변환되어 있음  \n",
        "num_words=500으로 지정했기 대문에 어휘 사전에는 500개의 단어만 들어가 있음  \n",
        "어휘 사전에 없는 단어는 모두 2로 표시"
      ]
    },
    {
      "cell_type": "code",
      "metadata": {
        "colab": {
          "base_uri": "https://localhost:8080/"
        },
        "id": "YI9h6z3Xd8EG",
        "outputId": "52d17ec1-87b6-4af7-e7f9-d43c83be0c83"
      },
      "source": [
        "# 타깃 데이터 출력\n",
        "print(train_target[:20])"
      ],
      "execution_count": null,
      "outputs": [
        {
          "output_type": "stream",
          "text": [
            "[1 0 0 1 0 0 1 0 1 0 1 0 0 0 0 0 1 1 0 1]\n"
          ],
          "name": "stdout"
        }
      ]
    },
    {
      "cell_type": "markdown",
      "metadata": {
        "id": "ooVY870GeK5_"
      },
      "source": [
        "리뷰가 긍정인지 부정인지를 판단  \n",
        "이진 분류 문제로 볼 수 있으므로 타깃값이 0(부정)과 1(긍정)으로 나누어짐"
      ]
    },
    {
      "cell_type": "code",
      "metadata": {
        "id": "dplCMa9IeSSO"
      },
      "source": [
        "# 훈련 세트에서 검증 세트 분리\n",
        "from sklearn.model_selection import train_test_split\n",
        "\n",
        "train_input, val_input, train_target, val_target = train_test_split(train_input, train_target, test_size=0.2, random_state=42)"
      ],
      "execution_count": null,
      "outputs": []
    },
    {
      "cell_type": "code",
      "metadata": {
        "colab": {
          "base_uri": "https://localhost:8080/"
        },
        "id": "C7gu5RVAekO2",
        "outputId": "9f73a8ac-9b13-49c2-94a0-3bdac8971e97"
      },
      "source": [
        "# 각 리뷰의 길이를 확인하기\n",
        "import numpy as np\n",
        "\n",
        "lengths = np.array([len(x) for x in train_input])\n",
        "print(np.mean(lengths), np.median(lengths))"
      ],
      "execution_count": null,
      "outputs": [
        {
          "output_type": "stream",
          "text": [
            "239.00925 178.0\n"
          ],
          "name": "stdout"
        }
      ]
    },
    {
      "cell_type": "code",
      "metadata": {
        "colab": {
          "base_uri": "https://localhost:8080/",
          "height": 279
        },
        "id": "3zY1Ijlse6Oe",
        "outputId": "b65204c1-3d88-47fb-c260-279400488795"
      },
      "source": [
        "import matplotlib.pyplot as plt\n",
        "plt.hist(lengths)\n",
        "plt.xlabel('length')\n",
        "plt.ylabel('frequency')\n",
        "plt.show()"
      ],
      "execution_count": null,
      "outputs": [
        {
          "output_type": "display_data",
          "data": {
            "image/png": "[encoded data removed]",
            "text/plain": [
              "<Figure size 432x288 with 1 Axes>"
            ]
          },
          "metadata": {
            "tags": [],
            "needs_background": "light"
          }
        }
      ]
    },
    {
      "cell_type": "code",
      "metadata": {
        "id": "XXurTK6zfDxZ"
      },
      "source": [
        "# pad_sequences() 함수를 통해 train_input의 길이를 100으로 맞추기\n",
        "from tensorflow.keras.preprocessing.sequence import pad_sequences\n",
        "train_seq = pad_sequences(train_input, maxlen=100)"
      ],
      "execution_count": null,
      "outputs": []
    },
    {
      "cell_type": "code",
      "metadata": {
        "colab": {
          "base_uri": "https://localhost:8080/"
        },
        "id": "jU9JUaanfhbe",
        "outputId": "d69e86e9-deb8-4aa9-fe3e-6c72f299f3a5"
      },
      "source": [
        "# 패딩 결과 확인하기\n",
        "print(train_input.shape) # 원래 데이터\n",
        "print(train_seq.shape)   # 패딩 데이터"
      ],
      "execution_count": null,
      "outputs": [
        {
          "output_type": "stream",
          "text": [
            "(20000,)\n",
            "(20000, 100)\n"
          ],
          "name": "stdout"
        }
      ]
    },
    {
      "cell_type": "code",
      "metadata": {
        "colab": {
          "base_uri": "https://localhost:8080/"
        },
        "id": "6lMpdEBRfoan",
        "outputId": "4c7d169e-6a48-4a1a-fe1f-4a81f110171f"
      },
      "source": [
        "# 첫 번째 데이터 출력\n",
        "print(train_seq[0])"
      ],
      "execution_count": null,
      "outputs": [
        {
          "output_type": "stream",
          "text": [
            "[ 10   4  20   9   2 364 352   5  45   6   2   2  33 269   8   2 142   2\n",
            "   5   2  17  73  17 204   5   2  19  55   2   2  92  66 104  14  20  93\n",
            "  76   2 151  33   4  58  12 188   2 151  12 215  69 224 142  73 237   6\n",
            "   2   7   2   2 188   2 103  14  31  10  10 451   7   2   5   2  80  91\n",
            "   2  30   2  34  14  20 151  50  26 131  49   2  84  46  50  37  80  79\n",
            "   6   2  46   7  14  20  10  10 470 158]\n"
          ],
          "name": "stdout"
        }
      ]
    },
    {
      "cell_type": "code",
      "metadata": {
        "colab": {
          "base_uri": "https://localhost:8080/"
        },
        "id": "zUoHu-Sdf7Ut",
        "outputId": "614f2a44-035a-4053-cc1a-b3862b00943c"
      },
      "source": [
        "print(train_input[0][-10:])"
      ],
      "execution_count": null,
      "outputs": [
        {
          "output_type": "stream",
          "text": [
            "[6, 2, 46, 7, 14, 20, 10, 10, 470, 158]\n"
          ],
          "name": "stdout"
        }
      ]
    },
    {
      "cell_type": "code",
      "metadata": {
        "colab": {
          "base_uri": "https://localhost:8080/"
        },
        "id": "Sm5OU13-gBRQ",
        "outputId": "cfd4ec77-5839-4b69-bbf2-0a1e2ace6a8d"
      },
      "source": [
        "# 여섯 번째 데이터 출력\n",
        "print(train_seq[5])"
      ],
      "execution_count": null,
      "outputs": [
        {
          "output_type": "stream",
          "text": [
            "[  0   0   0   0   1   2 195  19  49   2   2 190   4   2 352   2 183  10\n",
            "  10  13  82  79   4   2  36  71 269   8   2  25  19  49   7   4   2   2\n",
            "   2   2   2  10  10  48  25  40   2  11   2   2  40   2   2   5   4   2\n",
            "   2  95  14 238  56 129   2  10  10  21   2  94 364 352   2   2  11 190\n",
            "  24 484   2   7  94 205 405  10  10  87   2  34  49   2   7   2   2   2\n",
            "   2   2 290   2  46  48  64  18   4   2]\n"
          ],
          "name": "stdout"
        }
      ]
    },
    {
      "cell_type": "code",
      "metadata": {
        "id": "_4cpSpcIgTNb"
      },
      "source": [
        "# 검증 세트의 길이도 100으로 맞추기\n",
        "val_seq = pad_sequences(val_input, maxlen=100)"
      ],
      "execution_count": null,
      "outputs": []
    },
    {
      "cell_type": "markdown",
      "metadata": {
        "id": "4CNTzvKZgdc0"
      },
      "source": [
        "# 순환 신경망 만들기"
      ]
    },
    {
      "cell_type": "code",
      "metadata": {
        "id": "M8LtbO7Bgg1_"
      },
      "source": [
        "from tensorflow import keras\n",
        "\n",
        "model = keras.Sequential()\n",
        "model.add(keras.layers.SimpleRNN(8, input_shape=(100, 500)))  # 8 : 뉴런의 개수 / SimpleRNN 클래스의 activation의 기본값은 tanh\n",
        "model.add(keras.layers.Dense(1, activation=\"sigmoid\"))        "
      ],
      "execution_count": null,
      "outputs": []
    },
    {
      "cell_type": "markdown",
      "metadata": {
        "id": "0wvdBlqFg6xB"
      },
      "source": [
        "토큰을 정수로 변환한 데이터를 신경망에 주입하면 큰 정수가 큰 활성화 출력을 만듦  \n",
        "20번 토큰을 10번 토큰보다 더 중요시해야할 이유가 없음  \n",
        "정숫값에 있는 크기 속성을 없애고 각 정수를 고유하게 표현하는 방법은 원-핫 인코딩  \n",
        "train_seq[0]의 첫 번째 토큰인 10을 원-핫 인코딩으로 바꾸면 열한 번째 원소만 1이고 나머지는 모두 0인 배열  \n",
        "imdb.load_data() 함수에서 500개의 단어만 사용하도록 지정했기 때문에 고유한 단어는 모두 500개  \n",
        "즉 훈련 데이터에 포함될 수 있는 정숫값의 범위는 0(패딩 토큰)에서 499까지이기 때문에 배열의 길이가 500"
      ]
    },
    {
      "cell_type": "code",
      "metadata": {
        "id": "5eJNt5b-hlpy"
      },
      "source": [
        "# to_categorical() 함수를 통해 자동으로 원-핫 인코딩\n",
        "train_oh = keras.utils.to_categorical(train_seq)"
      ],
      "execution_count": null,
      "outputs": []
    },
    {
      "cell_type": "code",
      "metadata": {
        "colab": {
          "base_uri": "https://localhost:8080/"
        },
        "id": "M9Kegg8GiVF9",
        "outputId": "f7850471-3a0f-4888-8f20-24c18af8ebe9"
      },
      "source": [
        "print(train_oh.shape)"
      ],
      "execution_count": null,
      "outputs": [
        {
          "output_type": "stream",
          "text": [
            "(20000, 100, 500)\n"
          ],
          "name": "stdout"
        }
      ]
    },
    {
      "cell_type": "code",
      "metadata": {
        "colab": {
          "base_uri": "https://localhost:8080/"
        },
        "id": "xdmiCFChiXf2",
        "outputId": "fa85af93-5332-468b-d0f9-2a7a2cf91670"
      },
      "source": [
        "# 인코딩 확인\n",
        "print(train_oh[0][0][:12])\n",
        "print(np.sum(train_oh[0][0]))"
      ],
      "execution_count": null,
      "outputs": [
        {
          "output_type": "stream",
          "text": [
            "[0. 0. 0. 0. 0. 0. 0. 0. 0. 0. 1. 0.]\n",
            "1.0\n"
          ],
          "name": "stdout"
        }
      ]
    },
    {
      "cell_type": "code",
      "metadata": {
        "id": "NBsbwjLOiqGB"
      },
      "source": [
        "# val_seq도 원-핫 인코딩\n",
        "val_oh = keras.utils.to_categorical(val_seq)"
      ],
      "execution_count": null,
      "outputs": []
    },
    {
      "cell_type": "code",
      "metadata": {
        "colab": {
          "base_uri": "https://localhost:8080/"
        },
        "id": "r4GclF-ti7SW",
        "outputId": "daf9458b-b38e-49ba-91f2-efa3f3f3e1fd"
      },
      "source": [
        "# 모델 확인\n",
        "model.summary()"
      ],
      "execution_count": null,
      "outputs": [
        {
          "output_type": "stream",
          "text": [
            "Model: \"sequential\"\n",
            "_________________________________________________________________\n",
            "Layer (type)                 Output Shape              Param #   \n",
            "=================================================================\n",
            "simple_rnn (SimpleRNN)       (None, 8)                 4072      \n",
            "_________________________________________________________________\n",
            "dense (Dense)                (None, 1)                 9         \n",
            "=================================================================\n",
            "Total params: 4,081\n",
            "Trainable params: 4,081\n",
            "Non-trainable params: 0\n",
            "_________________________________________________________________\n"
          ],
          "name": "stdout"
        }
      ]
    },
    {
      "cell_type": "markdown",
      "metadata": {
        "id": "ArX7ILfIi-V2"
      },
      "source": [
        "# 순환 신경망 훈련하기"
      ]
    },
    {
      "cell_type": "code",
      "metadata": {
        "colab": {
          "base_uri": "https://localhost:8080/"
        },
        "id": "K-TNOIUQkzXl",
        "outputId": "94b34d8b-b1bf-471c-ac3b-296dce1136eb"
      },
      "source": [
        "rmsprop = keras.optimizers.RMSprop(learning_rate=1e-4)\n",
        "model.compile(optimizer=rmsprop, loss='binary_crossentropy',\n",
        "              metrics=['accuracy'])\n",
        "checkpoint_cb = keras.callbacks.ModelCheckpoint('best-simplernn-model.h5')\n",
        "early_stopping_cb = keras.callbacks.EarlyStopping(patience=3, restore_best_weights=True)\n",
        "history = model.fit(train_oh, train_target, epochs=100, batch_size=64, validation_data=(val_oh, val_target),\n",
        "                    callbacks=[checkpoint_cb, early_stopping_cb])"
      ],
      "execution_count": null,
      "outputs": [
        {
          "output_type": "stream",
          "text": [
            "Epoch 1/100\n",
            "313/313 [==============================] - 15s 42ms/step - loss: 0.6942 - accuracy: 0.5210 - val_loss: 0.6843 - val_accuracy: 0.5610\n",
            "Epoch 2/100\n",
            "313/313 [==============================] - 13s 41ms/step - loss: 0.6676 - accuracy: 0.5945 - val_loss: 0.6562 - val_accuracy: 0.6144\n",
            "Epoch 3/100\n",
            "313/313 [==============================] - 13s 41ms/step - loss: 0.6392 - accuracy: 0.6488 - val_loss: 0.6317 - val_accuracy: 0.6534\n",
            "Epoch 4/100\n",
            "313/313 [==============================] - 13s 41ms/step - loss: 0.6126 - accuracy: 0.6842 - val_loss: 0.6058 - val_accuracy: 0.6908\n",
            "Epoch 5/100\n",
            "313/313 [==============================] - 13s 41ms/step - loss: 0.5882 - accuracy: 0.7117 - val_loss: 0.5843 - val_accuracy: 0.7136\n",
            "Epoch 6/100\n",
            "313/313 [==============================] - 13s 41ms/step - loss: 0.5673 - accuracy: 0.7307 - val_loss: 0.5655 - val_accuracy: 0.7280\n",
            "Epoch 7/100\n",
            "313/313 [==============================] - 13s 41ms/step - loss: 0.5496 - accuracy: 0.7437 - val_loss: 0.5506 - val_accuracy: 0.7396\n",
            "Epoch 8/100\n",
            "313/313 [==============================] - 13s 41ms/step - loss: 0.5340 - accuracy: 0.7561 - val_loss: 0.5347 - val_accuracy: 0.7516\n",
            "Epoch 9/100\n",
            "313/313 [==============================] - 13s 41ms/step - loss: 0.5199 - accuracy: 0.7628 - val_loss: 0.5224 - val_accuracy: 0.7614\n",
            "Epoch 10/100\n",
            "313/313 [==============================] - 13s 40ms/step - loss: 0.5076 - accuracy: 0.7713 - val_loss: 0.5130 - val_accuracy: 0.7636\n",
            "Epoch 11/100\n",
            "313/313 [==============================] - 13s 40ms/step - loss: 0.4968 - accuracy: 0.7776 - val_loss: 0.5028 - val_accuracy: 0.7708\n",
            "Epoch 12/100\n",
            "313/313 [==============================] - 13s 41ms/step - loss: 0.4870 - accuracy: 0.7833 - val_loss: 0.4979 - val_accuracy: 0.7766\n",
            "Epoch 13/100\n",
            "313/313 [==============================] - 13s 41ms/step - loss: 0.4790 - accuracy: 0.7859 - val_loss: 0.4919 - val_accuracy: 0.7728\n",
            "Epoch 14/100\n",
            "313/313 [==============================] - 13s 41ms/step - loss: 0.4706 - accuracy: 0.7916 - val_loss: 0.4850 - val_accuracy: 0.7822\n",
            "Epoch 15/100\n",
            "313/313 [==============================] - 13s 41ms/step - loss: 0.4635 - accuracy: 0.7939 - val_loss: 0.4835 - val_accuracy: 0.7752\n",
            "Epoch 16/100\n",
            "313/313 [==============================] - 13s 42ms/step - loss: 0.4574 - accuracy: 0.7979 - val_loss: 0.4851 - val_accuracy: 0.7734\n",
            "Epoch 17/100\n",
            "313/313 [==============================] - 13s 42ms/step - loss: 0.4523 - accuracy: 0.7977 - val_loss: 0.4734 - val_accuracy: 0.7832\n",
            "Epoch 18/100\n",
            "313/313 [==============================] - 13s 42ms/step - loss: 0.4471 - accuracy: 0.8026 - val_loss: 0.4692 - val_accuracy: 0.7820\n",
            "Epoch 19/100\n",
            "313/313 [==============================] - 13s 42ms/step - loss: 0.4430 - accuracy: 0.8030 - val_loss: 0.4667 - val_accuracy: 0.7824\n",
            "Epoch 20/100\n",
            "313/313 [==============================] - 13s 42ms/step - loss: 0.4388 - accuracy: 0.8055 - val_loss: 0.4652 - val_accuracy: 0.7882\n",
            "Epoch 21/100\n",
            "313/313 [==============================] - 13s 42ms/step - loss: 0.4347 - accuracy: 0.8086 - val_loss: 0.4616 - val_accuracy: 0.7836\n",
            "Epoch 22/100\n",
            "313/313 [==============================] - 13s 42ms/step - loss: 0.4311 - accuracy: 0.8083 - val_loss: 0.4567 - val_accuracy: 0.7866\n",
            "Epoch 23/100\n",
            "313/313 [==============================] - 13s 42ms/step - loss: 0.4287 - accuracy: 0.8105 - val_loss: 0.4574 - val_accuracy: 0.7868\n",
            "Epoch 24/100\n",
            "313/313 [==============================] - 13s 42ms/step - loss: 0.4257 - accuracy: 0.8123 - val_loss: 0.4543 - val_accuracy: 0.7870\n",
            "Epoch 25/100\n",
            "313/313 [==============================] - 13s 42ms/step - loss: 0.4233 - accuracy: 0.8123 - val_loss: 0.4539 - val_accuracy: 0.7878\n",
            "Epoch 26/100\n",
            "313/313 [==============================] - 13s 42ms/step - loss: 0.4209 - accuracy: 0.8138 - val_loss: 0.4587 - val_accuracy: 0.7828\n",
            "Epoch 27/100\n",
            "313/313 [==============================] - 13s 42ms/step - loss: 0.4192 - accuracy: 0.8123 - val_loss: 0.4535 - val_accuracy: 0.7898\n",
            "Epoch 28/100\n",
            "313/313 [==============================] - 13s 42ms/step - loss: 0.4172 - accuracy: 0.8154 - val_loss: 0.4593 - val_accuracy: 0.7860\n",
            "Epoch 29/100\n",
            "313/313 [==============================] - 13s 43ms/step - loss: 0.4152 - accuracy: 0.8146 - val_loss: 0.4489 - val_accuracy: 0.7904\n",
            "Epoch 30/100\n",
            "313/313 [==============================] - 13s 43ms/step - loss: 0.4138 - accuracy: 0.8160 - val_loss: 0.4502 - val_accuracy: 0.7892\n",
            "Epoch 31/100\n",
            "313/313 [==============================] - 13s 42ms/step - loss: 0.4119 - accuracy: 0.8165 - val_loss: 0.4512 - val_accuracy: 0.7896\n",
            "Epoch 32/100\n",
            "313/313 [==============================] - 13s 42ms/step - loss: 0.4110 - accuracy: 0.8145 - val_loss: 0.4501 - val_accuracy: 0.7864\n"
          ],
          "name": "stdout"
        }
      ]
    },
    {
      "cell_type": "code",
      "metadata": {
        "colab": {
          "base_uri": "https://localhost:8080/",
          "height": 279
        },
        "id": "CWlyPd5-lks9",
        "outputId": "6175572b-0af4-42d1-caa5-2ef7b2d760ab"
      },
      "source": [
        "plt.plot(history.history['loss'])\n",
        "plt.plot(history.history['val_loss'])\n",
        "plt.xlabel('epoch')\n",
        "plt.ylabel('loss')\n",
        "plt.legend(['train', 'val'])\n",
        "plt.show()"
      ],
      "execution_count": null,
      "outputs": [
        {
          "output_type": "display_data",
          "data": {
            "image/png": "[encoded data removed]",
            "text/plain": [
              "<Figure size 432x288 with 1 Axes>"
            ]
          },
          "metadata": {
            "tags": [],
            "needs_background": "light"
          }
        }
      ]
    },
    {
      "cell_type": "code",
      "metadata": {
        "colab": {
          "base_uri": "https://localhost:8080/"
        },
        "id": "P0e5FahonzJ-",
        "outputId": "db3c4992-dd44-4617-90ab-3885b2ecb01e"
      },
      "source": [
        "print(train_seq.nbytes, train_oh.nbytes)"
      ],
      "execution_count": null,
      "outputs": [
        {
          "output_type": "stream",
          "text": [
            "8000000 4000000000\n"
          ],
          "name": "stdout"
        }
      ]
    },
    {
      "cell_type": "markdown",
      "metadata": {
        "id": "HNbniPN2n5QI"
      },
      "source": [
        "# 단어 임베딩을 사용하기"
      ]
    },
    {
      "cell_type": "markdown",
      "metadata": {
        "id": "WVN7bikjn8-c"
      },
      "source": [
        "**단어 임베딩**<sup>word embedding</sup> : 순환 신경망에서 텍스트를 처리할 때 즐겨 사용하는 방법"
      ]
    },
    {
      "cell_type": "code",
      "metadata": {
        "id": "GExAz0V9sSJW"
      },
      "source": [
        "# 단어 임베딩으로 순환 신경망 만들기\n",
        "model2 = keras.Sequential()\n",
        "model2.add(keras.layers.Embedding(500, 16, input_length=100)) # 500 : 어휘 사전 크기 / 16 : 임베딩 벡터 크기 / input_lenght : 입력 시퀀스 길이\n",
        "model2.add(keras.layers.SimpleRNN(8))                         # 8   : 뉴런 개수\n",
        "model2.add(keras.layers.Dense(1, activation='sigmoid'))       # 1   : 뉴런 개수"
      ],
      "execution_count": null,
      "outputs": []
    },
    {
      "cell_type": "code",
      "metadata": {
        "colab": {
          "base_uri": "https://localhost:8080/"
        },
        "id": "YvrWpAymstGE",
        "outputId": "9bfcc882-8d95-4e2e-f49c-50d5cf972492"
      },
      "source": [
        "model2.summary()"
      ],
      "execution_count": null,
      "outputs": [
        {
          "output_type": "stream",
          "text": [
            "Model: \"sequential_1\"\n",
            "_________________________________________________________________\n",
            "Layer (type)                 Output Shape              Param #   \n",
            "=================================================================\n",
            "embedding (Embedding)        (None, 100, 16)           8000      \n",
            "_________________________________________________________________\n",
            "simple_rnn_1 (SimpleRNN)     (None, 8)                 200       \n",
            "_________________________________________________________________\n",
            "dense_1 (Dense)              (None, 1)                 9         \n",
            "=================================================================\n",
            "Total params: 8,209\n",
            "Trainable params: 8,209\n",
            "Non-trainable params: 0\n",
            "_________________________________________________________________\n"
          ],
          "name": "stdout"
        }
      ]
    },
    {
      "cell_type": "code",
      "metadata": {
        "colab": {
          "base_uri": "https://localhost:8080/"
        },
        "id": "oy6WMlOLtR2-",
        "outputId": "81255710-e6dc-4cb9-d1cf-26480300184b"
      },
      "source": [
        "rmsprop = keras.optimizers.RMSprop(learning_rate=1e-4)\n",
        "model2.compile(optimizer=rmsprop, loss='binary_crossentropy',\n",
        "              metrics=['accuracy'])\n",
        "checkpoint_cb = keras.callbacks.ModelCheckpoint('best-embedding-model.h5')\n",
        "early_stopping_cb = keras.callbacks.EarlyStopping(patience=3, restore_best_weights=True)\n",
        "history = model2.fit(train_seq, train_target, epochs=100, batch_size=64, validation_data=(val_seq, val_target),\n",
        "                    callbacks=[checkpoint_cb, early_stopping_cb])"
      ],
      "execution_count": null,
      "outputs": [
        {
          "output_type": "stream",
          "text": [
            "Epoch 1/100\n",
            "313/313 [==============================] - 9s 25ms/step - loss: 0.6954 - accuracy: 0.5150 - val_loss: 0.6769 - val_accuracy: 0.5908\n",
            "Epoch 2/100\n",
            "313/313 [==============================] - 7s 23ms/step - loss: 0.6469 - accuracy: 0.6614 - val_loss: 0.6308 - val_accuracy: 0.6872\n",
            "Epoch 3/100\n",
            "313/313 [==============================] - 7s 23ms/step - loss: 0.6142 - accuracy: 0.7200 - val_loss: 0.6059 - val_accuracy: 0.7242\n",
            "Epoch 4/100\n",
            "313/313 [==============================] - 7s 22ms/step - loss: 0.5905 - accuracy: 0.7469 - val_loss: 0.5895 - val_accuracy: 0.7378\n",
            "Epoch 5/100\n",
            "313/313 [==============================] - 7s 22ms/step - loss: 0.5710 - accuracy: 0.7610 - val_loss: 0.5689 - val_accuracy: 0.7640\n",
            "Epoch 6/100\n",
            "313/313 [==============================] - 7s 23ms/step - loss: 0.5525 - accuracy: 0.7739 - val_loss: 0.5532 - val_accuracy: 0.7630\n",
            "Epoch 7/100\n",
            "313/313 [==============================] - 7s 23ms/step - loss: 0.5351 - accuracy: 0.7819 - val_loss: 0.5400 - val_accuracy: 0.7618\n",
            "Epoch 8/100\n",
            "313/313 [==============================] - 7s 22ms/step - loss: 0.5197 - accuracy: 0.7869 - val_loss: 0.5260 - val_accuracy: 0.7720\n",
            "Epoch 9/100\n",
            "313/313 [==============================] - 7s 22ms/step - loss: 0.5047 - accuracy: 0.7928 - val_loss: 0.5151 - val_accuracy: 0.7718\n",
            "Epoch 10/100\n",
            "313/313 [==============================] - 7s 23ms/step - loss: 0.4916 - accuracy: 0.7958 - val_loss: 0.5054 - val_accuracy: 0.7748\n",
            "Epoch 11/100\n",
            "313/313 [==============================] - 7s 23ms/step - loss: 0.4800 - accuracy: 0.7980 - val_loss: 0.4951 - val_accuracy: 0.7794\n",
            "Epoch 12/100\n",
            "313/313 [==============================] - 7s 22ms/step - loss: 0.4692 - accuracy: 0.8023 - val_loss: 0.4872 - val_accuracy: 0.7786\n",
            "Epoch 13/100\n",
            "313/313 [==============================] - 7s 22ms/step - loss: 0.4596 - accuracy: 0.8061 - val_loss: 0.4801 - val_accuracy: 0.7808\n",
            "Epoch 14/100\n",
            "313/313 [==============================] - 7s 23ms/step - loss: 0.4511 - accuracy: 0.8080 - val_loss: 0.4758 - val_accuracy: 0.7812\n",
            "Epoch 15/100\n",
            "313/313 [==============================] - 7s 23ms/step - loss: 0.4444 - accuracy: 0.8094 - val_loss: 0.4687 - val_accuracy: 0.7864\n",
            "Epoch 16/100\n",
            "313/313 [==============================] - 7s 22ms/step - loss: 0.4383 - accuracy: 0.8123 - val_loss: 0.4689 - val_accuracy: 0.7812\n",
            "Epoch 17/100\n",
            "313/313 [==============================] - 7s 22ms/step - loss: 0.4330 - accuracy: 0.8138 - val_loss: 0.4660 - val_accuracy: 0.7846\n",
            "Epoch 18/100\n",
            "313/313 [==============================] - 7s 22ms/step - loss: 0.4286 - accuracy: 0.8162 - val_loss: 0.4596 - val_accuracy: 0.7864\n",
            "Epoch 19/100\n",
            "313/313 [==============================] - 7s 22ms/step - loss: 0.4244 - accuracy: 0.8181 - val_loss: 0.4632 - val_accuracy: 0.7864\n",
            "Epoch 20/100\n",
            "313/313 [==============================] - 7s 22ms/step - loss: 0.4207 - accuracy: 0.8201 - val_loss: 0.4596 - val_accuracy: 0.7868\n",
            "Epoch 21/100\n",
            "313/313 [==============================] - 7s 22ms/step - loss: 0.4175 - accuracy: 0.8214 - val_loss: 0.4589 - val_accuracy: 0.7852\n",
            "Epoch 22/100\n",
            "313/313 [==============================] - 7s 22ms/step - loss: 0.4135 - accuracy: 0.8221 - val_loss: 0.4561 - val_accuracy: 0.7896\n",
            "Epoch 23/100\n",
            "313/313 [==============================] - 7s 23ms/step - loss: 0.4120 - accuracy: 0.8220 - val_loss: 0.4558 - val_accuracy: 0.7888\n",
            "Epoch 24/100\n",
            "313/313 [==============================] - 7s 22ms/step - loss: 0.4090 - accuracy: 0.8256 - val_loss: 0.4690 - val_accuracy: 0.7830\n",
            "Epoch 25/100\n",
            "313/313 [==============================] - 7s 22ms/step - loss: 0.4062 - accuracy: 0.8263 - val_loss: 0.4570 - val_accuracy: 0.7896\n",
            "Epoch 26/100\n",
            "313/313 [==============================] - 7s 22ms/step - loss: 0.4049 - accuracy: 0.8247 - val_loss: 0.4645 - val_accuracy: 0.7854\n"
          ],
          "name": "stdout"
        }
      ]
    },
    {
      "cell_type": "code",
      "metadata": {
        "colab": {
          "base_uri": "https://localhost:8080/",
          "height": 279
        },
        "id": "vn80lG92uNrE",
        "outputId": "4f3d7b44-b7f0-455f-d119-2d453f4e2fbe"
      },
      "source": [
        "plt.plot(history.history['loss'])\n",
        "plt.plot(history.history['val_loss'])\n",
        "plt.xlabel('epoch')\n",
        "plt.ylabel('loss')\n",
        "plt.legend(['train', 'val'])\n",
        "plt.show()"
      ],
      "execution_count": null,
      "outputs": [
        {
          "output_type": "display_data",
          "data": {
            "image/png": "[encoded data removed]",
            "text/plain": [
              "<Figure size 432x288 with 1 Axes>"
            ]
          },
          "metadata": {
            "tags": [],
            "needs_background": "light"
          }
        }
      ]
    },
    {
      "cell_type": "code",
      "metadata": {
        "id": "Y3NvQ4kut1Ef"
      },
      "source": [
        ""
      ],
      "execution_count": null,
      "outputs": []
    }
  ]
}