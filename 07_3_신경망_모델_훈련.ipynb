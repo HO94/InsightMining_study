{
  "nbformat": 4,
  "nbformat_minor": 0,
  "metadata": {
    "colab": {
      "name": "07- 3 신경망 모델 훈련",
      "provenance": [],
      "collapsed_sections": [],
      "authorship_tag": "ABX9TyPkoXWgUj5t8RLpPQ1g5Yhw",
      "include_colab_link": true
    },
    "kernelspec": {
      "name": "python3",
      "display_name": "Python 3"
    },
    "language_info": {
      "name": "python"
    }
  },
  "cells": [
    {
      "cell_type": "markdown",
      "metadata": {
        "id": "view-in-github",
        "colab_type": "text"
      },
      "source": [
        "<a href=\"https://colab.research.google.com/github/HO94/InsightMining_HonGong/blob/main/07_3_%EC%8B%A0%EA%B2%BD%EB%A7%9D_%EB%AA%A8%EB%8D%B8_%ED%9B%88%EB%A0%A8.ipynb\" target=\"_parent\"><img src=\"https://colab.research.google.com/assets/colab-badge.svg\" alt=\"Open In Colab\"/></a>"
      ]
    },
    {
      "cell_type": "markdown",
      "metadata": {
        "id": "hOczLMLLi93g"
      },
      "source": [
        "# 손실곡선"
      ]
    },
    {
      "cell_type": "markdown",
      "metadata": {
        "id": "N4cAXjtnlmDp"
      },
      "source": [
        "fit() 메서드는 History 클래스 객체를 반환  \n",
        "History 객체에는 훈련 과정에서 계산한 지표(손실, 정확도) 값이 저장"
      ]
    },
    {
      "cell_type": "code",
      "metadata": {
        "id": "GVptCZKFj1TE",
        "colab": {
          "base_uri": "https://localhost:8080/"
        },
        "outputId": "552f28b1-2fb8-4ee7-a7af-abb4a9f81147"
      },
      "source": [
        "from tensorflow import keras\n",
        "from sklearn.model_selection import train_test_split\n",
        "(train_input, train_target), (test_input, test_target) = keras.datasets.fashion_mnist.load_data()\n",
        "\n",
        "train_scaled = train_input / 255.0\n",
        "train_scaled, val_scaled, train_target, val_target = train_test_split(train_scaled, train_target, test_size = 0.2, random_state = 42)"
      ],
      "execution_count": null,
      "outputs": [
        {
          "output_type": "stream",
          "text": [
            "Downloading data from https://storage.googleapis.com/tensorflow/tf-keras-datasets/train-labels-idx1-ubyte.gz\n",
            "32768/29515 [=================================] - 0s 0us/step\n",
            "Downloading data from https://storage.googleapis.com/tensorflow/tf-keras-datasets/train-images-idx3-ubyte.gz\n",
            "26427392/26421880 [==============================] - 0s 0us/step\n",
            "Downloading data from https://storage.googleapis.com/tensorflow/tf-keras-datasets/t10k-labels-idx1-ubyte.gz\n",
            "8192/5148 [===============================================] - 0s 0us/step\n",
            "Downloading data from https://storage.googleapis.com/tensorflow/tf-keras-datasets/t10k-images-idx3-ubyte.gz\n",
            "4423680/4422102 [==============================] - 0s 0us/step\n"
          ],
          "name": "stdout"
        }
      ]
    },
    {
      "cell_type": "code",
      "metadata": {
        "id": "V7b7d3gEkkx7"
      },
      "source": [
        "def model_fn(a_layer = None):\n",
        "  model = keras.Sequential()\n",
        "  model.add(keras.layers.Flatten(input_shape = (28, 28)))\n",
        "  model.add(keras.layers.Dense(100, activation = \"relu\"))\n",
        "  if a_layer:\n",
        "    model.add(a_layer)\n",
        "  model.add(keras.layers.Dense(10, activation = \"softmax\"))\n",
        "  return model"
      ],
      "execution_count": null,
      "outputs": []
    },
    {
      "cell_type": "code",
      "metadata": {
        "colab": {
          "base_uri": "https://localhost:8080/"
        },
        "id": "wx1axsB9k6nF",
        "outputId": "2f02762a-bedf-43c7-fc65-5d5382fecda9"
      },
      "source": [
        "model = model_fn()\n",
        "model.summary()"
      ],
      "execution_count": null,
      "outputs": [
        {
          "output_type": "stream",
          "text": [
            "Model: \"sequential\"\n",
            "_________________________________________________________________\n",
            "Layer (type)                 Output Shape              Param #   \n",
            "=================================================================\n",
            "flatten (Flatten)            (None, 784)               0         \n",
            "_________________________________________________________________\n",
            "dense (Dense)                (None, 100)               78500     \n",
            "_________________________________________________________________\n",
            "dense_1 (Dense)              (None, 10)                1010      \n",
            "=================================================================\n",
            "Total params: 79,510\n",
            "Trainable params: 79,510\n",
            "Non-trainable params: 0\n",
            "_________________________________________________________________\n"
          ],
          "name": "stdout"
        }
      ]
    },
    {
      "cell_type": "code",
      "metadata": {
        "id": "6mXvbaoLlW7p",
        "colab": {
          "base_uri": "https://localhost:8080/"
        },
        "outputId": "4fa847b6-f58f-4b6b-8647-4362bba05522"
      },
      "source": [
        "model.compile(loss = \"sparse_categorical_crossentropy\", metrics = \"accuracy\")\n",
        "history = model.fit(train_scaled, train_target, epochs = 5, verbose = 1)"
      ],
      "execution_count": null,
      "outputs": [
        {
          "output_type": "stream",
          "text": [
            "Epoch 1/5\n",
            "1500/1500 [==============================] - 4s 2ms/step - loss: 0.6701 - accuracy: 0.7654\n",
            "Epoch 2/5\n",
            "1500/1500 [==============================] - 3s 2ms/step - loss: 0.4026 - accuracy: 0.8537\n",
            "Epoch 3/5\n",
            "1500/1500 [==============================] - 3s 2ms/step - loss: 0.3493 - accuracy: 0.8735\n",
            "Epoch 4/5\n",
            "1500/1500 [==============================] - 3s 2ms/step - loss: 0.3334 - accuracy: 0.8812\n",
            "Epoch 5/5\n",
            "1500/1500 [==============================] - 3s 2ms/step - loss: 0.3116 - accuracy: 0.8889\n"
          ],
          "name": "stdout"
        }
      ]
    },
    {
      "cell_type": "code",
      "metadata": {
        "colab": {
          "base_uri": "https://localhost:8080/"
        },
        "id": "c-u_yA69l_dq",
        "outputId": "83027a32-2611-4760-cfd7-c208d86ddb7b"
      },
      "source": [
        "print(history.history.keys())"
      ],
      "execution_count": null,
      "outputs": [
        {
          "output_type": "stream",
          "text": [
            "dict_keys(['loss', 'accuracy'])\n"
          ],
          "name": "stdout"
        }
      ]
    },
    {
      "cell_type": "markdown",
      "metadata": {
        "id": "WvoyP023mdTW"
      },
      "source": [
        "### 손실값"
      ]
    },
    {
      "cell_type": "code",
      "metadata": {
        "colab": {
          "base_uri": "https://localhost:8080/",
          "height": 279
        },
        "id": "2RYUDw0mmJkZ",
        "outputId": "189d8e31-3e83-4dc7-8826-2b2b524c8b0a"
      },
      "source": [
        "import matplotlib.pyplot as plt\n",
        "plt.plot(history.history['loss'])\n",
        "plt.xlabel('epoch')\n",
        "plt.ylabel('loss')\n",
        "plt.show()"
      ],
      "execution_count": null,
      "outputs": [
        {
          "output_type": "display_data",
          "data": {
            "image/png": "[encoded data removed]",
            "text/plain": [
              "<Figure size 432x288 with 1 Axes>"
            ]
          },
          "metadata": {
            "tags": [],
            "needs_background": "light"
          }
        }
      ]
    },
    {
      "cell_type": "markdown",
      "metadata": {
        "id": "ZpjkEJtUmZsm"
      },
      "source": [
        "### 정확도"
      ]
    },
    {
      "cell_type": "code",
      "metadata": {
        "colab": {
          "base_uri": "https://localhost:8080/",
          "height": 279
        },
        "id": "aXz2r5HamiAM",
        "outputId": "330998bd-be21-4b1f-c5e0-f6494f3f934f"
      },
      "source": [
        "import matplotlib.pyplot as plt\n",
        "plt.plot(history.history['accuracy'])\n",
        "plt.xlabel('epoch')\n",
        "plt.ylabel('accuracy')\n",
        "plt.show()"
      ],
      "execution_count": null,
      "outputs": [
        {
          "output_type": "display_data",
          "data": {
            "image/png": "[encoded data removed]",
            "text/plain": [
              "<Figure size 432x288 with 1 Axes>"
            ]
          },
          "metadata": {
            "tags": [],
            "needs_background": "light"
          }
        }
      ]
    },
    {
      "cell_type": "code",
      "metadata": {
        "colab": {
          "base_uri": "https://localhost:8080/",
          "height": 279
        },
        "id": "ZmgIb2-lmlsa",
        "outputId": "ae24adf2-589d-410a-d791-d23b09d75e13"
      },
      "source": [
        "model = model_fn()\n",
        "model.compile(loss = \"sparse_categorical_crossentropy\", metrics = \"accuracy\")\n",
        "history = model.fit(train_scaled, train_target, epochs = 20, verbose = 0)\n",
        "\n",
        "plt.plot(history.history['loss'])\n",
        "plt.xlabel('epoch')\n",
        "plt.ylabel('loss')\n",
        "plt.show()"
      ],
      "execution_count": null,
      "outputs": [
        {
          "output_type": "display_data",
          "data": {
            "image/png": "[encoded data removed]",
            "text/plain": [
              "<Figure size 432x288 with 1 Axes>"
            ]
          },
          "metadata": {
            "tags": [],
            "needs_background": "light"
          }
        }
      ]
    },
    {
      "cell_type": "markdown",
      "metadata": {
        "id": "p74l2BNfm4sJ"
      },
      "source": [
        "# 검증손실"
      ]
    },
    {
      "cell_type": "code",
      "metadata": {
        "id": "GOjPuLupm79A"
      },
      "source": [
        "model = model_fn()\n",
        "model.compile(loss = \"sparse_categorical_crossentropy\", metrics = \"accuracy\")\n",
        "history = model.fit(train_scaled, train_target, epochs = 20, verbose = 0, validation_data = (val_scaled, val_target))"
      ],
      "execution_count": null,
      "outputs": []
    },
    {
      "cell_type": "code",
      "metadata": {
        "colab": {
          "base_uri": "https://localhost:8080/"
        },
        "id": "EwzbSpoEnYii",
        "outputId": "6174f296-df60-4bea-9fe5-2e0d600f95d5"
      },
      "source": [
        "print(history.history.keys())"
      ],
      "execution_count": null,
      "outputs": [
        {
          "output_type": "stream",
          "text": [
            "dict_keys(['loss', 'accuracy', 'val_loss', 'val_accuracy'])\n"
          ],
          "name": "stdout"
        }
      ]
    },
    {
      "cell_type": "code",
      "metadata": {
        "colab": {
          "base_uri": "https://localhost:8080/",
          "height": 282
        },
        "id": "6fuOUATWnlGy",
        "outputId": "e5799e1a-5d4c-40ff-b094-859e9cd0fe82"
      },
      "source": [
        "plt.plot(history.history[\"loss\"])\n",
        "plt.plot(history.history[\"val_loss\"])\n",
        "plt.xlabel('epoch')\n",
        "plt.ylabel('loss')\n",
        "plt.legend(['train', 'val'])\n",
        "plt.show()"
      ],
      "execution_count": null,
      "outputs": [
        {
          "output_type": "display_data",
          "data": {
            "image/png": "[encoded data removed]",
            "text/plain": [
              "<Figure size 432x288 with 1 Axes>"
            ]
          },
          "metadata": {
            "tags": [],
            "needs_background": "light"
          }
        }
      ]
    },
    {
      "cell_type": "markdown",
      "metadata": {
        "id": "cEmuRW7Snzp3"
      },
      "source": [
        "과대적합을 막기 위해 Adam"
      ]
    },
    {
      "cell_type": "code",
      "metadata": {
        "colab": {
          "base_uri": "https://localhost:8080/",
          "height": 279
        },
        "id": "-c_AN4LioLjM",
        "outputId": "3438b19c-57ca-4928-ee81-46b9d8a49bfc"
      },
      "source": [
        "model = model_fn()\n",
        "model.compile(optimizer = \"adam\", loss = \"sparse_categorical_crossentropy\", metrics = \"accuracy\")\n",
        "history = model.fit(train_scaled, train_target, epochs = 20, verbose = 0, validation_data = (val_scaled, val_target))\n",
        "\n",
        "plt.plot(history.history[\"loss\"])\n",
        "plt.plot(history.history[\"val_loss\"])\n",
        "plt.xlabel('epoch')\n",
        "plt.ylabel('loss')\n",
        "plt.legend(['train', 'val'])\n",
        "plt.show()"
      ],
      "execution_count": null,
      "outputs": [
        {
          "output_type": "display_data",
          "data": {
            "image/png": "[encoded data removed]",
            "text/plain": [
              "<Figure size 432x288 with 1 Axes>"
            ]
          },
          "metadata": {
            "tags": [],
            "needs_background": "light"
          }
        }
      ]
    },
    {
      "cell_type": "markdown",
      "metadata": {
        "id": "SnlxOXmzobr9"
      },
      "source": [
        "# 드롭아웃"
      ]
    },
    {
      "cell_type": "markdown",
      "metadata": {
        "id": "F81JyrexodDV"
      },
      "source": [
        "훈련 과정에서 층에 있는 일부 뉴런을 랜덤하게 꺼서(뉴런의 출력을 0으로 만들어) 과대적합을 막음  \n",
        "신경망에만 존재하는 규제 방법  \n",
        "은닉층 다음에 드롭아웃 층 추가  "
      ]
    },
    {
      "cell_type": "code",
      "metadata": {
        "colab": {
          "base_uri": "https://localhost:8080/"
        },
        "id": "_IzTArbDomAZ",
        "outputId": "105f9d13-2084-48bb-f108-01d21d3f89b0"
      },
      "source": [
        "model = model_fn(keras.layers.Dropout(0.3))\n",
        "model.summary()"
      ],
      "execution_count": null,
      "outputs": [
        {
          "output_type": "stream",
          "text": [
            "Model: \"sequential_5\"\n",
            "_________________________________________________________________\n",
            "Layer (type)                 Output Shape              Param #   \n",
            "=================================================================\n",
            "flatten_5 (Flatten)          (None, 784)               0         \n",
            "_________________________________________________________________\n",
            "dense_8 (Dense)              (None, 100)               78500     \n",
            "_________________________________________________________________\n",
            "dropout (Dropout)            (None, 100)               0         \n",
            "_________________________________________________________________\n",
            "dense_9 (Dense)              (None, 10)                1010      \n",
            "=================================================================\n",
            "Total params: 79,510\n",
            "Trainable params: 79,510\n",
            "Non-trainable params: 0\n",
            "_________________________________________________________________\n"
          ],
          "name": "stdout"
        }
      ]
    },
    {
      "cell_type": "markdown",
      "metadata": {
        "id": "zenhlEGbo8ie"
      },
      "source": [
        "**훈련이 끝난 뒤에는 평가나 예측을 수행할 때는 드롭아웃을 적용하지 말아야함**  \n",
        "텐서플로와 케라스는 모델을 평가, 예측에 사용할 때에는 자동으로 드롭아웃으로 적용하지 않음. "
      ]
    },
    {
      "cell_type": "code",
      "metadata": {
        "colab": {
          "base_uri": "https://localhost:8080/",
          "height": 279
        },
        "id": "JoRV8K-wpRjl",
        "outputId": "b85dcb8b-ff05-45ee-82ce-0ca924da9142"
      },
      "source": [
        "model.compile(optimizer = \"adam\", loss = \"sparse_categorical_crossentropy\", metrics = \"accuracy\")\n",
        "history = model.fit(train_scaled, train_target, epochs = 20, verbose = 0, validation_data = (val_scaled, val_target))\n",
        "\n",
        "plt.plot(history.history[\"loss\"])\n",
        "plt.plot(history.history[\"val_loss\"])\n",
        "plt.xlabel('epoch')\n",
        "plt.ylabel('loss')\n",
        "plt.legend(['train', 'val'])\n",
        "plt.show()"
      ],
      "execution_count": null,
      "outputs": [
        {
          "output_type": "display_data",
          "data": {
            "image/png": "[encoded data removed]",
            "text/plain": [
              "<Figure size 432x288 with 1 Axes>"
            ]
          },
          "metadata": {
            "tags": [],
            "needs_background": "light"
          }
        }
      ]
    },
    {
      "cell_type": "markdown",
      "metadata": {
        "id": "klEwTZtvpZoi"
      },
      "source": [
        "# 모델 저장과 복원"
      ]
    },
    {
      "cell_type": "markdown",
      "metadata": {
        "id": "s1-Yzz-ophBp"
      },
      "source": [
        "에포크 횟수를 10으로 지정하고 모델 훈련"
      ]
    },
    {
      "cell_type": "code",
      "metadata": {
        "id": "kdJkUIG4pkM1"
      },
      "source": [
        "model = model_fn(keras.layers.Dropout(0.3))\n",
        "model.compile(optimizer = \"adam\", loss = \"sparse_categorical_crossentropy\", metrics = \"accuracy\")\n",
        "history = model.fit(train_scaled, train_target, epochs = 10, verbose = 0, validation_data = (val_scaled, val_target))"
      ],
      "execution_count": null,
      "outputs": []
    },
    {
      "cell_type": "markdown",
      "metadata": {
        "id": "eMcEcUkzpsku"
      },
      "source": [
        "케라스 모델은 훈련된 모델의 **파라미터**를 저장하는 save_weights() 메서드 제공 "
      ]
    },
    {
      "cell_type": "code",
      "metadata": {
        "id": "-oQe_Mi_p1iW"
      },
      "source": [
        "model.save_weights(\"model-weights.h5\")"
      ],
      "execution_count": null,
      "outputs": []
    },
    {
      "cell_type": "markdown",
      "metadata": {
        "id": "jNApSr3Ep5jA"
      },
      "source": [
        "**모델 구조**와 **모델 파라미터**를 함께 저장하는 save() 메서드 제공"
      ]
    },
    {
      "cell_type": "code",
      "metadata": {
        "id": "ilzuX-oIp_LB"
      },
      "source": [
        "model.save(\"model-whole.h5\")"
      ],
      "execution_count": null,
      "outputs": []
    },
    {
      "cell_type": "code",
      "metadata": {
        "colab": {
          "base_uri": "https://localhost:8080/"
        },
        "id": "ZFWdd1q2qB8L",
        "outputId": "0829d225-d3c8-4382-a409-d193357faf74"
      },
      "source": [
        "# 두 모델 확인\n",
        "!ls -al *.h5"
      ],
      "execution_count": null,
      "outputs": [
        {
          "output_type": "stream",
          "text": [
            "-rw-r--r-- 1 root root 981776 May  5 08:52 best-model.h5\n",
            "-rw-r--r-- 1 root root 332480 May  5 08:31 model-weights.h5\n",
            "-rw-r--r-- 1 root root 981776 May  5 08:32 model-whole.h5\n"
          ],
          "name": "stdout"
        }
      ]
    },
    {
      "cell_type": "markdown",
      "metadata": {
        "id": "LNlCtdXXqFCe"
      },
      "source": [
        "훈련을 하지 않은 새로운 모델을 만들고 model-weights.h5파일에서 훈련된 모델 파라미터를 사용"
      ]
    },
    {
      "cell_type": "code",
      "metadata": {
        "id": "B11qj0NMqPr2"
      },
      "source": [
        "model = model_fn(keras.layers.Dropout(0.3))\n",
        "model.load_weights(\"model-weights.h5\")"
      ],
      "execution_count": null,
      "outputs": []
    },
    {
      "cell_type": "code",
      "metadata": {
        "colab": {
          "base_uri": "https://localhost:8080/"
        },
        "id": "1Rfn6DNfqXAz",
        "outputId": "07a3a238-2c38-4fbf-d294-f7de2925c1bb"
      },
      "source": [
        "import numpy as np\n",
        "val_labels = np.argmax(model.predict(val_scaled), axis = -1)  # axis = -1 은 배열을 마지막 차원, 2차원(행, 열)이기 때문에 1과 같음.\n",
        "print(np.mean(val_labels == val_target))"
      ],
      "execution_count": null,
      "outputs": [
        {
          "output_type": "stream",
          "text": [
            "0.8808333333333334\n"
          ],
          "name": "stdout"
        }
      ]
    },
    {
      "cell_type": "code",
      "metadata": {
        "colab": {
          "base_uri": "https://localhost:8080/"
        },
        "id": "3a6ox-RHqrn4",
        "outputId": "ee2e27eb-b62a-4524-b793-05c2dd91c09c"
      },
      "source": [
        "model = keras.models.load_model('model-whole.h5')\n",
        "model.evaluate(val_scaled, val_target)"
      ],
      "execution_count": null,
      "outputs": [
        {
          "output_type": "stream",
          "text": [
            "375/375 [==============================] - 0s 1ms/step - loss: 0.3279 - accuracy: 0.8808\n"
          ],
          "name": "stdout"
        },
        {
          "output_type": "execute_result",
          "data": {
            "text/plain": [
              "[0.3279465436935425, 0.8808333277702332]"
            ]
          },
          "metadata": {
            "tags": []
          },
          "execution_count": 29
        }
      ]
    },
    {
      "cell_type": "markdown",
      "metadata": {
        "id": "1vPG4KW9rXn9"
      },
      "source": [
        "# 콜백"
      ]
    },
    {
      "cell_type": "markdown",
      "metadata": {
        "id": "9SuPvVn-rorP"
      },
      "source": [
        "훈련 과정 중간에 어떤 작업을 수행할 수 있게 하는 객체  \n",
        "ModelCheckpoint 콜백은 최상의 검증 점수를 만드는 모델을 저장  "
      ]
    },
    {
      "cell_type": "code",
      "metadata": {
        "colab": {
          "base_uri": "https://localhost:8080/"
        },
        "id": "ApviPwKNr3qS",
        "outputId": "97aedc07-5fdc-4088-d24f-15a3bb7c2e86"
      },
      "source": [
        "model = model_fn(keras.layers.Dropout(0.3))\n",
        "model.compile(optimizer = \"adam\", loss = \"sparse_categorical_crossentropy\", metrics = \"accuracy\")\n",
        "checkpoint_cb = keras.callbacks.ModelCheckpoint('best-model.h5')\n",
        "\n",
        "model.fit(train_scaled, train_target, epochs=20, verbose=1, validation_data=(val_scaled, val_target), callbacks=[checkpoint_cb]) # 가장 낮은 손실값 저장"
      ],
      "execution_count": null,
      "outputs": [
        {
          "output_type": "stream",
          "text": [
            "Epoch 1/20\n",
            "1500/1500 [==============================] - 3s 2ms/step - loss: 0.7694 - accuracy: 0.7386 - val_loss: 0.4317 - val_accuracy: 0.8463\n",
            "Epoch 2/20\n",
            "1500/1500 [==============================] - 3s 2ms/step - loss: 0.4506 - accuracy: 0.8363 - val_loss: 0.3858 - val_accuracy: 0.8609\n",
            "Epoch 3/20\n",
            "1500/1500 [==============================] - 3s 2ms/step - loss: 0.4125 - accuracy: 0.8494 - val_loss: 0.3702 - val_accuracy: 0.8608\n",
            "Epoch 4/20\n",
            "1500/1500 [==============================] - 3s 2ms/step - loss: 0.3795 - accuracy: 0.8630 - val_loss: 0.3509 - val_accuracy: 0.8720\n",
            "Epoch 5/20\n",
            "1500/1500 [==============================] - 3s 2ms/step - loss: 0.3675 - accuracy: 0.8637 - val_loss: 0.3400 - val_accuracy: 0.8738\n",
            "Epoch 6/20\n",
            "1500/1500 [==============================] - 3s 2ms/step - loss: 0.3477 - accuracy: 0.8703 - val_loss: 0.3458 - val_accuracy: 0.8729\n",
            "Epoch 7/20\n",
            "1500/1500 [==============================] - 3s 2ms/step - loss: 0.3358 - accuracy: 0.8780 - val_loss: 0.3379 - val_accuracy: 0.8777\n",
            "Epoch 8/20\n",
            "1500/1500 [==============================] - 3s 2ms/step - loss: 0.3277 - accuracy: 0.8790 - val_loss: 0.3370 - val_accuracy: 0.8757\n",
            "Epoch 9/20\n",
            "1500/1500 [==============================] - 3s 2ms/step - loss: 0.3255 - accuracy: 0.8772 - val_loss: 0.3369 - val_accuracy: 0.8779\n",
            "Epoch 10/20\n",
            "1500/1500 [==============================] - 3s 2ms/step - loss: 0.3282 - accuracy: 0.8790 - val_loss: 0.3363 - val_accuracy: 0.8790\n",
            "Epoch 11/20\n",
            "1500/1500 [==============================] - 3s 2ms/step - loss: 0.3058 - accuracy: 0.8868 - val_loss: 0.3262 - val_accuracy: 0.8842\n",
            "Epoch 12/20\n",
            "1500/1500 [==============================] - 3s 2ms/step - loss: 0.3026 - accuracy: 0.8889 - val_loss: 0.3273 - val_accuracy: 0.8827\n",
            "Epoch 13/20\n",
            "1500/1500 [==============================] - 3s 2ms/step - loss: 0.3006 - accuracy: 0.8859 - val_loss: 0.3307 - val_accuracy: 0.8827\n",
            "Epoch 14/20\n",
            "1500/1500 [==============================] - 3s 2ms/step - loss: 0.2942 - accuracy: 0.8896 - val_loss: 0.3228 - val_accuracy: 0.8855\n",
            "Epoch 15/20\n",
            "1500/1500 [==============================] - 3s 2ms/step - loss: 0.2861 - accuracy: 0.8942 - val_loss: 0.3272 - val_accuracy: 0.8855\n",
            "Epoch 16/20\n",
            "1500/1500 [==============================] - 3s 2ms/step - loss: 0.2857 - accuracy: 0.8922 - val_loss: 0.3213 - val_accuracy: 0.8852\n",
            "Epoch 17/20\n",
            "1500/1500 [==============================] - 3s 2ms/step - loss: 0.2836 - accuracy: 0.8947 - val_loss: 0.3406 - val_accuracy: 0.8766\n",
            "Epoch 18/20\n",
            "1500/1500 [==============================] - 3s 2ms/step - loss: 0.2784 - accuracy: 0.8939 - val_loss: 0.3444 - val_accuracy: 0.8807\n",
            "Epoch 19/20\n",
            "1500/1500 [==============================] - 3s 2ms/step - loss: 0.2744 - accuracy: 0.8959 - val_loss: 0.3242 - val_accuracy: 0.8871\n",
            "Epoch 20/20\n",
            "1500/1500 [==============================] - 3s 2ms/step - loss: 0.2753 - accuracy: 0.8960 - val_loss: 0.3232 - val_accuracy: 0.8849\n"
          ],
          "name": "stdout"
        }
      ]
    },
    {
      "cell_type": "markdown",
      "metadata": {
        "id": "Z6z0LUE2sGE0"
      },
      "source": [
        "best-model.h5 에 최상의 검증 점수를 낸 모델이 저장  \n",
        "이 모델을 load_model() 함수로 읽어서 예측 진행"
      ]
    },
    {
      "cell_type": "code",
      "metadata": {
        "colab": {
          "base_uri": "https://localhost:8080/"
        },
        "id": "TS6Z4PP5sSU0",
        "outputId": "f8e9d473-2c5c-464b-a46d-fb75debfdb7d"
      },
      "source": [
        "model = keras.models.load_model(\"best-model.h5\")\n",
        "model.evaluate(val_scaled, val_target)"
      ],
      "execution_count": null,
      "outputs": [
        {
          "output_type": "stream",
          "text": [
            "375/375 [==============================] - 0s 1ms/step - loss: 0.3292 - accuracy: 0.8845\n"
          ],
          "name": "stdout"
        },
        {
          "output_type": "execute_result",
          "data": {
            "text/plain": [
              "[0.32918626070022583, 0.8845000267028809]"
            ]
          },
          "metadata": {
            "tags": []
          },
          "execution_count": 36
        }
      ]
    },
    {
      "cell_type": "markdown",
      "metadata": {
        "id": "U0Z2jaL8tWfM"
      },
      "source": [
        "### 조기종료"
      ]
    },
    {
      "cell_type": "markdown",
      "metadata": {
        "id": "rYawLMb2tfq5"
      },
      "source": [
        "검증 점수가 상승하기 시작하면서 그 이후에는 과대적합이 더 커지기 때문에 훈련을 계속할 필요가 없음.  \n",
        "과대적합이 시작되기 전에 훈련을 미리 중지하는 것  \n",
        "에포크가 충분히 커도 손실이 증가하는 시점에서 중지시켜줌  "
      ]
    },
    {
      "cell_type": "code",
      "metadata": {
        "id": "yVkSFh49t93y"
      },
      "source": [
        "model = model_fn(keras.layers.Dropout(0.3))\n",
        "model.compile(optimizer = \"adam\", loss = \"sparse_categorical_crossentropy\", metrics = \"accuracy\")\n",
        "checkpoint_cb = keras.callbacks.ModelCheckpoint('best-model.h5')\n",
        "early_stopping_cb = keras.callbacks.EarlyStopping(patience = 2, restore_best_weights=True)  # patience : 손실이 증가하는 횟수(손실이 2 에포크 증가하면 중지), restore_best_weights : 가장 손실이 낮았던 가중치로 돌아가라\n",
        "\n",
        "history = model.fit(train_scaled, train_target, epochs = 20, verbose = 0, validation_data = (val_scaled, val_target), callbacks=[checkpoint_cb, early_stopping_cb])"
      ],
      "execution_count": null,
      "outputs": []
    },
    {
      "cell_type": "code",
      "metadata": {
        "colab": {
          "base_uri": "https://localhost:8080/"
        },
        "id": "MlGRWcLDucJq",
        "outputId": "c6ef582b-097e-44ed-d4e5-762b6e9a1e43"
      },
      "source": [
        "print(early_stopping_cb.stopped_epoch)  # 몇 번째 에포크에서 멈췄는지 확인할 수 있음, 10번째 에포크에서 멈췄다 = 8번째 에포크가 최적이다(epoch = 7)"
      ],
      "execution_count": null,
      "outputs": [
        {
          "output_type": "stream",
          "text": [
            "9\n"
          ],
          "name": "stdout"
        }
      ]
    },
    {
      "cell_type": "code",
      "metadata": {
        "colab": {
          "base_uri": "https://localhost:8080/",
          "height": 283
        },
        "id": "X_AzfzqZuvxb",
        "outputId": "cc28d3b1-687d-4712-f7bb-ffc5cfb6a8ad"
      },
      "source": [
        "plt.plot(history.history[\"loss\"])\n",
        "plt.plot(history.history[\"val_loss\"])\n",
        "plt.xlabel('epoch')\n",
        "plt.ylabel('loss')\n",
        "plt.legend(['train', 'val'])\n",
        "plt.show()"
      ],
      "execution_count": null,
      "outputs": [
        {
          "output_type": "display_data",
          "data": {
            "image/png": "[encoded data removed]",
            "text/plain": [
              "<Figure size 432x288 with 1 Axes>"
            ]
          },
          "metadata": {
            "tags": [],
            "needs_background": "light"
          }
        }
      ]
    },
    {
      "cell_type": "code",
      "metadata": {
        "colab": {
          "base_uri": "https://localhost:8080/"
        },
        "id": "QW1eLvbKu0Dq",
        "outputId": "2980c51e-6df4-4101-9a4f-f3dfa0bf5209"
      },
      "source": [
        "model.evaluate(val_scaled, val_target)"
      ],
      "execution_count": null,
      "outputs": [
        {
          "output_type": "stream",
          "text": [
            "375/375 [==============================] - 0s 1ms/step - loss: 0.3322 - accuracy: 0.8771\n"
          ],
          "name": "stdout"
        },
        {
          "output_type": "execute_result",
          "data": {
            "text/plain": [
              "[0.3321729600429535, 0.8770833611488342]"
            ]
          },
          "metadata": {
            "tags": []
          },
          "execution_count": 41
        }
      ]
    },
    {
      "cell_type": "code",
      "metadata": {
        "id": "gnuriCdvu-BZ"
      },
      "source": [
        ""
      ],
      "execution_count": null,
      "outputs": []
    }
  ]
}