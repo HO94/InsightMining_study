{
  "nbformat": 4,
  "nbformat_minor": 0,
  "metadata": {
    "colab": {
      "name": "08-1 합성곱 신경망의 구성 요소",
      "provenance": [],
      "authorship_tag": "ABX9TyOGJL/COwjttswAZB9DaQus",
      "include_colab_link": true
    },
    "kernelspec": {
      "name": "python3",
      "display_name": "Python 3"
    },
    "language_info": {
      "name": "python"
    }
  },
  "cells": [
    {
      "cell_type": "markdown",
      "metadata": {
        "id": "view-in-github",
        "colab_type": "text"
      },
      "source": [
        "<a href=\"https://colab.research.google.com/github/HO94/InsightMining_HonGong/blob/main/08_1_%ED%95%A9%EC%84%B1%EA%B3%B1_%EC%8B%A0%EA%B2%BD%EB%A7%9D%EC%9D%98_%EA%B5%AC%EC%84%B1_%EC%9A%94%EC%86%8C.ipynb\" target=\"_parent\"><img src=\"https://colab.research.google.com/assets/colab-badge.svg\" alt=\"Open In Colab\"/></a>"
      ]
    },
    {
      "cell_type": "markdown",
      "metadata": {
        "id": "RZydV_3sOmbT"
      },
      "source": [
        "# 합성곱"
      ]
    },
    {
      "cell_type": "markdown",
      "metadata": {
        "id": "nFU-RVl_QD5J"
      },
      "source": [
        "# 케라스 합성곱 층"
      ]
    },
    {
      "cell_type": "markdown",
      "metadata": {
        "id": "J_vPQ_SBQFoD"
      },
      "source": [
        "케라스의 층은 모두 keras.layers 패키지 아래 클래스로 구현"
      ]
    },
    {
      "cell_type": "code",
      "metadata": {
        "colab": {
          "base_uri": "https://localhost:8080/"
        },
        "id": "onodpxM_QKNX",
        "outputId": "90364923-6923-4b3a-f6bb-c68d757d2f4d"
      },
      "source": [
        "from tensorflow import keras\n",
        "keras.layers.Conv2D(10, kernel_size = (3, 3), activation = \"relu\")"
      ],
      "execution_count": null,
      "outputs": [
        {
          "output_type": "execute_result",
          "data": {
            "text/plain": [
              "<tensorflow.python.keras.layers.convolutional.Conv2D at 0x7fc410f0a610>"
            ]
          },
          "metadata": {
            "tags": []
          },
          "execution_count": 2
        }
      ]
    },
    {
      "cell_type": "markdown",
      "metadata": {
        "id": "GXvYr7FhQVWj"
      },
      "source": [
        "### 패딩과 스트라이드"
      ]
    },
    {
      "cell_type": "code",
      "metadata": {
        "colab": {
          "base_uri": "https://localhost:8080/"
        },
        "id": "d6KeVTrqQrwJ",
        "outputId": "5a936cb9-09c9-47dd-a439-1fb729516cc8"
      },
      "source": [
        "keras.layers.Conv2D(10, kernel_size=(3,3), activation=\"relu\", padding=\"same\")"
      ],
      "execution_count": null,
      "outputs": [
        {
          "output_type": "execute_result",
          "data": {
            "text/plain": [
              "<tensorflow.python.keras.layers.convolutional.Conv2D at 0x7fc410c82190>"
            ]
          },
          "metadata": {
            "tags": []
          },
          "execution_count": 3
        }
      ]
    },
    {
      "cell_type": "code",
      "metadata": {
        "colab": {
          "base_uri": "https://localhost:8080/"
        },
        "id": "p8if2aTrR6iS",
        "outputId": "19bc2046-2848-4f56-c687-ec580398256e"
      },
      "source": [
        "keras.layers.Conv2D(10, kernel_size=(3,3), activation=\"relu\", padding=\"same\", strides=1)"
      ],
      "execution_count": null,
      "outputs": [
        {
          "output_type": "execute_result",
          "data": {
            "text/plain": [
              "<tensorflow.python.keras.layers.convolutional.Conv2D at 0x7fc410d1c950>"
            ]
          },
          "metadata": {
            "tags": []
          },
          "execution_count": 4
        }
      ]
    },
    {
      "cell_type": "markdown",
      "metadata": {
        "id": "ApS2TGyYSFJx"
      },
      "source": [
        "### 풀링"
      ]
    },
    {
      "cell_type": "code",
      "metadata": {
        "colab": {
          "base_uri": "https://localhost:8080/"
        },
        "id": "Um7H6C91SKRr",
        "outputId": "3dcbd08c-594f-4818-fc81-e50024730588"
      },
      "source": [
        "keras.layers.MaxPooling2D(2)"
      ],
      "execution_count": null,
      "outputs": [
        {
          "output_type": "execute_result",
          "data": {
            "text/plain": [
              "<tensorflow.python.keras.layers.pooling.MaxPooling2D at 0x7fc410cf48d0>"
            ]
          },
          "metadata": {
            "tags": []
          },
          "execution_count": 7
        }
      ]
    },
    {
      "cell_type": "markdown",
      "metadata": {
        "id": "eToIFCsuS0e0"
      },
      "source": [
        "# 합성곱 신경망의 전체 구조"
      ]
    },
    {
      "cell_type": "markdown",
      "metadata": {
        "id": "LtW2xUnKTPDG"
      },
      "source": [
        "### 컬러 이미지를 사용한 합성곱"
      ]
    },
    {
      "cell_type": "code",
      "metadata": {
        "id": "nM0MEUwtT8DI"
      },
      "source": [
        ""
      ],
      "execution_count": null,
      "outputs": []
    }
  ]
}