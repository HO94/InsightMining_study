{
  "nbformat": 4,
  "nbformat_minor": 0,
  "metadata": {
    "colab": {
      "name": "07-2 심층 신경망",
      "provenance": [],
      "authorship_tag": "ABX9TyPCbl4lPsmPNB05q1xRrAOZ",
      "include_colab_link": true
    },
    "kernelspec": {
      "name": "python3",
      "display_name": "Python 3"
    },
    "language_info": {
      "name": "python"
    }
  },
  "cells": [
    {
      "cell_type": "markdown",
      "metadata": {
        "id": "view-in-github",
        "colab_type": "text"
      },
      "source": [
        "<a href=\"https://colab.research.google.com/github/HO94/InsightMining_HonGong/blob/main/07_2_%EC%8B%AC%EC%B8%B5_%EC%8B%A0%EA%B2%BD%EB%A7%9D.ipynb\" target=\"_parent\"><img src=\"https://colab.research.google.com/assets/colab-badge.svg\" alt=\"Open In Colab\"/></a>"
      ]
    },
    {
      "cell_type": "markdown",
      "metadata": {
        "id": "hhdiylbueOwT"
      },
      "source": [
        "입력층   = 일차원 데이터 셋(784개 뉴런)  \n",
        "2개의 층 = 은닉층, 출력층"
      ]
    },
    {
      "cell_type": "markdown",
      "metadata": {
        "id": "ktoKVnRNglkP"
      },
      "source": [
        "이진 분류 : 시그모이드  함수  \n",
        "다중 분류 : 소프트맥스 함수"
      ]
    },
    {
      "cell_type": "markdown",
      "metadata": {
        "id": "DmIxO3ZFg9xu"
      },
      "source": [
        "은닉층 + 활성화 함수 -> 비선형 함수로 변형, 단순한 선형으로 나타나지 않도록 함.     \n",
        "활성화 함수가 없다면 출력층과 합쳐서 하나의 층으로 나타남"
      ]
    },
    {
      "cell_type": "code",
      "metadata": {
        "colab": {
          "base_uri": "https://localhost:8080/"
        },
        "id": "yJcIgGaXz7fO",
        "outputId": "32f4b2d6-5744-4ede-ec56-cd78aee94ccc"
      },
      "source": [
        "from tensorflow import keras\n",
        "(train_input, train_target), (test_input, test_target) = keras.datasets.fashion_mnist.load_data()"
      ],
      "execution_count": null,
      "outputs": [
        {
          "output_type": "stream",
          "text": [
            "Downloading data from https://storage.googleapis.com/tensorflow/tf-keras-datasets/train-labels-idx1-ubyte.gz\n",
            "32768/29515 [=================================] - 0s 0us/step\n",
            "Downloading data from https://storage.googleapis.com/tensorflow/tf-keras-datasets/train-images-idx3-ubyte.gz\n",
            "26427392/26421880 [==============================] - 0s 0us/step\n",
            "Downloading data from https://storage.googleapis.com/tensorflow/tf-keras-datasets/t10k-labels-idx1-ubyte.gz\n",
            "8192/5148 [===============================================] - 0s 0us/step\n",
            "Downloading data from https://storage.googleapis.com/tensorflow/tf-keras-datasets/t10k-images-idx3-ubyte.gz\n",
            "4423680/4422102 [==============================] - 0s 0us/step\n"
          ],
          "name": "stdout"
        }
      ]
    },
    {
      "cell_type": "code",
      "metadata": {
        "id": "7tehYM_H0HoL"
      },
      "source": [
        "from sklearn.model_selection import train_test_split\n",
        "train_scaled = train_input / 255.0\n",
        "train_scaled = train_scaled.reshape(-1, 28*28)\n",
        "train_scaled, val_scaled, train_target, val_target = train_test_split(train_scaled, train_target, test_size = 0.2, random_state = 42)"
      ],
      "execution_count": null,
      "outputs": []
    },
    {
      "cell_type": "markdown",
      "metadata": {
        "id": "KMMl3nPthW4h"
      },
      "source": [
        "## 심층 신경망"
      ]
    },
    {
      "cell_type": "code",
      "metadata": {
        "id": "0eSaz_fehiOf"
      },
      "source": [
        "dense1 = keras.layers.Dense(100, activation = \"sigmoid\", input_shape = (784,)) # 은닉층\n",
        "dense2 = keras.layers.Dense(10, activation = \"softmax\") # 출력층\n",
        "\n",
        "model = keras.Sequential([dense1, dense2])"
      ],
      "execution_count": null,
      "outputs": []
    },
    {
      "cell_type": "markdown",
      "metadata": {
        "id": "wK3pzNuLh8T9"
      },
      "source": [
        "## summary() 메서드"
      ]
    },
    {
      "cell_type": "code",
      "metadata": {
        "id": "ow5i2oath8WU",
        "colab": {
          "base_uri": "https://localhost:8080/"
        },
        "outputId": "9abb0b93-bcf7-4521-9c45-826a36e22a7b"
      },
      "source": [
        "model.summary()"
      ],
      "execution_count": null,
      "outputs": [
        {
          "output_type": "stream",
          "text": [
            "Model: \"sequential\"\n",
            "_________________________________________________________________\n",
            "Layer (type)                 Output Shape              Param #   \n",
            "=================================================================\n",
            "dense (Dense)                (None, 100)               78500     \n",
            "_________________________________________________________________\n",
            "dense_1 (Dense)              (None, 10)                1010      \n",
            "=================================================================\n",
            "Total params: 79,510\n",
            "Trainable params: 79,510\n",
            "Non-trainable params: 0\n",
            "_________________________________________________________________\n"
          ],
          "name": "stdout"
        }
      ]
    },
    {
      "cell_type": "markdown",
      "metadata": {
        "id": "PegdTYnkh8Y5"
      },
      "source": [
        "- 입력층 784개 뉴런 * 은닉층 100개 뉴런   (완전연결, 가중치) + 100개 뉴런 (절편)\n",
        "= 78500개  \n",
        "\n",
        "- 은닉층 100개 뉴련 * 출력층 10개 뉴런 + 10개 뉴런 = 1010개  \n",
        "  \n",
        "  \n",
        "\n",
        "fit(...batchsize = 32) -> 미니배치로 적용  \n",
        "32개씩 잘라서 모델 훈련  \n",
        "모델을 만들 때에는 변경 x  \n",
        "훈련 시킬 때 자연스럽게 변경"
      ]
    },
    {
      "cell_type": "markdown",
      "metadata": {
        "id": "_N_OI63oh8bP"
      },
      "source": [
        "## 층을 추가하는 다른 방법"
      ]
    },
    {
      "cell_type": "code",
      "metadata": {
        "id": "3vw-wnnhh8dq"
      },
      "source": [
        "# 1번\n",
        "model = keras.Sequential([keras.layers.Dense(100, activation = \"sigmoid\", input_shape = (784,), name = \"hidden\"),\n",
        "                          keras.layers.Dense(10, activation = \"softmax\", name = \"output\")],\n",
        "                          name = \"패션 MNIST 모델\")"
      ],
      "execution_count": null,
      "outputs": []
    },
    {
      "cell_type": "code",
      "metadata": {
        "id": "1jKyJqJdh8gW"
      },
      "source": [
        "# 2번 (실제로 많이 사용하는 코드, add 메서드 사이 if문 사용 등 유연한 모델 사용 가능)\n",
        "model = keras.Sequential()\n",
        "model.add(keras.layers.Dense(100, activation = \"sigmoid\", input_shape = (784,)))\n",
        "model.add(keras.layers.Dense(10, activation = \"softmax\"))"
      ],
      "execution_count": null,
      "outputs": []
    },
    {
      "cell_type": "markdown",
      "metadata": {
        "id": "__Hljn7Ph8is"
      },
      "source": [
        "## 모델 훈련"
      ]
    },
    {
      "cell_type": "code",
      "metadata": {
        "id": "NR1BcF5zj4EH",
        "colab": {
          "base_uri": "https://localhost:8080/"
        },
        "outputId": "95dbc5c6-d1f3-4575-9316-2619f63ddf86"
      },
      "source": [
        "model.compile(loss = \"sparse_categorical_crossentropy\", metrics = \"accuracy\")\n",
        "\n",
        "model.fit(train_scaled, train_target, epochs = 5)"
      ],
      "execution_count": null,
      "outputs": [
        {
          "output_type": "stream",
          "text": [
            "Epoch 1/5\n",
            "1500/1500 [==============================] - 4s 3ms/step - loss: 0.7567 - accuracy: 0.7591\n",
            "Epoch 2/5\n",
            "1500/1500 [==============================] - 4s 3ms/step - loss: 0.4148 - accuracy: 0.8509\n",
            "Epoch 3/5\n",
            "1500/1500 [==============================] - 4s 3ms/step - loss: 0.3771 - accuracy: 0.8637\n",
            "Epoch 4/5\n",
            "1500/1500 [==============================] - 4s 2ms/step - loss: 0.3581 - accuracy: 0.8712\n",
            "Epoch 5/5\n",
            "1500/1500 [==============================] - 4s 3ms/step - loss: 0.3397 - accuracy: 0.8778\n"
          ],
          "name": "stdout"
        },
        {
          "output_type": "execute_result",
          "data": {
            "text/plain": [
              "<tensorflow.python.keras.callbacks.History at 0x7fbb2bc48090>"
            ]
          },
          "metadata": {
            "tags": []
          },
          "execution_count": 12
        }
      ]
    },
    {
      "cell_type": "markdown",
      "metadata": {
        "id": "DU88M8gkj4Gj"
      },
      "source": [
        "## 렐루 함수와 Flatten 층"
      ]
    },
    {
      "cell_type": "markdown",
      "metadata": {
        "id": "PgE88OFvlq4K"
      },
      "source": [
        "시그모이드 함수의 단점  \n",
        "- 선형 출력값이 극단값에 갈수록 값의 변화가 매우 작아짐(포화), 신경망 모델이 빠르게 학습할 수 없어 층을 깊게 쌓지 못함  \n",
        "\n",
        "렐루 함수 사용  \n",
        "- max 함수  \n",
        "- 뉴런의 출력함수(z)가 0보다 크면 z출력, 0보다 작으면 버리는 함수"
      ]
    },
    {
      "cell_type": "markdown",
      "metadata": {
        "id": "auu3wALUmoAm"
      },
      "source": [
        "새로운 층 Flatten  \n",
        "- 실제 신경망 모델, 알고리즘에 등장x\n",
        "- 편의로 만든 층  \n",
        "- 케라스에만 존재하는 유틸리티 층  \n",
        "- keras 모듈 밑에 있기 때문에 층이라 부름  \n",
        "- params = 0  \n",
        "- 28*28 =784(일차원 배열)로 펼치는 작업을 대신 해줌  \n",
        "- 필요한 전처리 과정을 모델 안에 포함시키기 위해\n"
      ]
    },
    {
      "cell_type": "code",
      "metadata": {
        "id": "O4Qq4a4SliVL"
      },
      "source": [
        "model = keras.Sequential()\n",
        "\n",
        "model.add(keras.layers.Flatten(input_shape = (28,28)))\n",
        "model.add(keras.layers.Dense(100, activation = \"relu\"))\n",
        "model.add(keras.layers.Dense(10, activation = \"softmax\"))"
      ],
      "execution_count": null,
      "outputs": []
    },
    {
      "cell_type": "code",
      "metadata": {
        "id": "KkMLTLUDmato",
        "colab": {
          "base_uri": "https://localhost:8080/"
        },
        "outputId": "abbb12b0-a60c-4cb1-81b5-c244e00f766e"
      },
      "source": [
        "model.summary()"
      ],
      "execution_count": null,
      "outputs": [
        {
          "output_type": "stream",
          "text": [
            "Model: \"sequential_4\"\n",
            "_________________________________________________________________\n",
            "Layer (type)                 Output Shape              Param #   \n",
            "=================================================================\n",
            "flatten (Flatten)            (None, 784)               0         \n",
            "_________________________________________________________________\n",
            "dense_5 (Dense)              (None, 100)               78500     \n",
            "_________________________________________________________________\n",
            "dense_6 (Dense)              (None, 10)                1010      \n",
            "=================================================================\n",
            "Total params: 79,510\n",
            "Trainable params: 79,510\n",
            "Non-trainable params: 0\n",
            "_________________________________________________________________\n"
          ],
          "name": "stdout"
        }
      ]
    },
    {
      "cell_type": "code",
      "metadata": {
        "id": "eqOYHZUy1XK9"
      },
      "source": [
        "(train_input, train_target), (test_input, test_target) = keras.datasets.fashion_mnist.load_data()\n",
        "\n",
        "from sklearn.model_selection import train_test_split\n",
        "train_scaled = train_input / 255.0\n",
        "train_scaled, val_scaled, train_target, val_target = train_test_split(train_scaled, train_target, test_size = 0.2, random_state = 42)"
      ],
      "execution_count": null,
      "outputs": []
    },
    {
      "cell_type": "code",
      "metadata": {
        "colab": {
          "base_uri": "https://localhost:8080/"
        },
        "id": "joz7moR11nlR",
        "outputId": "25478eaa-cef2-4565-b2a9-4e74ae3bf116"
      },
      "source": [
        "model.compile(loss = \"sparse_categorical_crossentropy\", metrics = \"accuracy\")\n",
        "\n",
        "model.fit(train_scaled, train_target, epochs = 5)"
      ],
      "execution_count": null,
      "outputs": [
        {
          "output_type": "stream",
          "text": [
            "Epoch 1/5\n",
            "1500/1500 [==============================] - 4s 2ms/step - loss: 0.6591 - accuracy: 0.7701\n",
            "Epoch 2/5\n",
            "1500/1500 [==============================] - 4s 2ms/step - loss: 0.3991 - accuracy: 0.8577\n",
            "Epoch 3/5\n",
            "1500/1500 [==============================] - 4s 2ms/step - loss: 0.3518 - accuracy: 0.8746\n",
            "Epoch 4/5\n",
            "1500/1500 [==============================] - 4s 2ms/step - loss: 0.3277 - accuracy: 0.8820\n",
            "Epoch 5/5\n",
            "1500/1500 [==============================] - 4s 2ms/step - loss: 0.3168 - accuracy: 0.8849\n"
          ],
          "name": "stdout"
        },
        {
          "output_type": "execute_result",
          "data": {
            "text/plain": [
              "<tensorflow.python.keras.callbacks.History at 0x7fbb29da7990>"
            ]
          },
          "metadata": {
            "tags": []
          },
          "execution_count": 16
        }
      ]
    },
    {
      "cell_type": "code",
      "metadata": {
        "colab": {
          "base_uri": "https://localhost:8080/"
        },
        "id": "MCZWc8l91sX3",
        "outputId": "34a35b24-fa43-4604-a6a4-87164b294acb"
      },
      "source": [
        "model.evaluate(val_scaled, val_target)"
      ],
      "execution_count": null,
      "outputs": [
        {
          "output_type": "stream",
          "text": [
            "375/375 [==============================] - 1s 1ms/step - loss: 0.3789 - accuracy: 0.8724\n"
          ],
          "name": "stdout"
        },
        {
          "output_type": "execute_result",
          "data": {
            "text/plain": [
              "[0.3788610100746155, 0.8724166750907898]"
            ]
          },
          "metadata": {
            "tags": []
          },
          "execution_count": 17
        }
      ]
    },
    {
      "cell_type": "markdown",
      "metadata": {
        "id": "rH553VDqj4Lp"
      },
      "source": [
        "## 옵티마이저"
      ]
    },
    {
      "cell_type": "markdown",
      "metadata": {
        "id": "KOab5DURj4OG"
      },
      "source": [
        "compile 메서드 optimizer = \"sgd\" -> 확률적 경사하강법  \n",
        "\n",
        "optimizer = \"sgd\" : 미니배치로 사용됨  \n",
        "\n",
        "최적화 옵티마이저 종류가 다양함  \n",
        "기본 경사 하강법 옵티마이저  \n",
        "- SGD -> 모멘텀 -> 네스테로프 모멘텀  \n",
        "\n",
        "적응적 학습률 옵티마이저  \n",
        "- RMSprop -> Adam\n",
        "- 학습률이 점차 변화"
      ]
    },
    {
      "cell_type": "code",
      "metadata": {
        "id": "TK87zy8Ej4Qv"
      },
      "source": [
        "#동일한 방법\n",
        "model.compile(optimizer = \"sgd\", loss = \"sparse_categorical_crossentropy\", metrics = \"accuracy\")\n",
        "\n",
        "sgd = keras.optimizers.SGD()\n",
        "model.compile(optimizer = sgd, loss = \"sparse_categorical_crossentropy\", metrics = \"accuracy\")"
      ],
      "execution_count": null,
      "outputs": []
    },
    {
      "cell_type": "code",
      "metadata": {
        "id": "BDwI1mixj4S2"
      },
      "source": [
        "# 매개변수 값을 변화하고 싶다면\n",
        "sgd = keras.optimizers.SGD(learning_rate = 0.1) # learning_rate 기본값 0.01\n",
        "sgd = keras.optimizers.SGD(momentum = 0.9, nesterov = True) # 모멘텀 방법 사용(기본값 0), 네스테로프 사용(기본값 False)"
      ],
      "execution_count": null,
      "outputs": []
    },
    {
      "cell_type": "code",
      "metadata": {
        "id": "4B1UkWI92fDi"
      },
      "source": [
        "# 적응적 학습률 - Adagrad\n",
        "adagrad = keras.optimizers.Adagrad()\n",
        "model.compile(optimizer = adagrad, loss = \"sparse_categorical_crossentropy\", metrics = \"accuracy\")"
      ],
      "execution_count": null,
      "outputs": []
    },
    {
      "cell_type": "code",
      "metadata": {
        "colab": {
          "base_uri": "https://localhost:8080/"
        },
        "id": "Cr6r_jod2zWV",
        "outputId": "e828a7cf-8ef0-409a-acb7-d0ccf14c9190"
      },
      "source": [
        "# 적응적 학습률 - RMSprop\n",
        "rmsprop = keras.optimizers.RMSprop()\n",
        "model.compile(optimizer = rmsprop, loss = \"sparse_categorical_crossentropy\", metrics = \"accuracy\")\n",
        "\n",
        "model.fit(train_scaled, train_target, epochs = 5)"
      ],
      "execution_count": null,
      "outputs": [
        {
          "output_type": "stream",
          "text": [
            "Epoch 1/5\n",
            "1500/1500 [==============================] - 4s 3ms/step - loss: 0.3136 - accuracy: 0.8874\n",
            "Epoch 2/5\n",
            "1500/1500 [==============================] - 4s 3ms/step - loss: 0.2918 - accuracy: 0.8954\n",
            "Epoch 3/5\n",
            "1500/1500 [==============================] - 4s 3ms/step - loss: 0.2788 - accuracy: 0.8986\n",
            "Epoch 4/5\n",
            "1500/1500 [==============================] - 4s 2ms/step - loss: 0.2858 - accuracy: 0.8994\n",
            "Epoch 5/5\n",
            "1500/1500 [==============================] - 4s 2ms/step - loss: 0.2652 - accuracy: 0.9043\n"
          ],
          "name": "stdout"
        },
        {
          "output_type": "execute_result",
          "data": {
            "text/plain": [
              "<tensorflow.python.keras.callbacks.History at 0x7fbb28bbfa90>"
            ]
          },
          "metadata": {
            "tags": []
          },
          "execution_count": 27
        }
      ]
    },
    {
      "cell_type": "markdown",
      "metadata": {
        "id": "UNNgr6UGqjL8"
      },
      "source": [
        "### 적응적 학습률 옵티마이저"
      ]
    },
    {
      "cell_type": "code",
      "metadata": {
        "id": "qiHxha24pnkn"
      },
      "source": [
        "# 입문서라 수식 제외\n",
        "model = keras.Sequential()\n",
        "model.add(keras.layers.Flatten(input_shape = (28, 28)))\n",
        "model.add(keras.layers.Dense(100, activation = \"relu\"))\n",
        "model.add(keras.layers.Dense(10, activation = \"softmax\"))\n"
      ],
      "execution_count": null,
      "outputs": []
    },
    {
      "cell_type": "code",
      "metadata": {
        "id": "psFkxxi7pnmj",
        "colab": {
          "base_uri": "https://localhost:8080/"
        },
        "outputId": "f9bb301f-0397-493b-8f67-f5bf94b2ea5a"
      },
      "source": [
        "model.compile(optimizer = \"adam\", loss = \"sparse_categorical_crossentropy\", metrics = \"accuracy\")\n",
        "model.fit(train_scaled, train_target, epochs = 5)\n",
        "\n",
        "model.evaluate(val_scaled, val_target)"
      ],
      "execution_count": null,
      "outputs": [
        {
          "output_type": "stream",
          "text": [
            "Epoch 1/5\n",
            "1500/1500 [==============================] - 4s 2ms/step - loss: 0.6866 - accuracy: 0.7649\n",
            "Epoch 2/5\n",
            "1500/1500 [==============================] - 3s 2ms/step - loss: 0.4069 - accuracy: 0.8553\n",
            "Epoch 3/5\n",
            "1500/1500 [==============================] - 3s 2ms/step - loss: 0.3620 - accuracy: 0.8708\n",
            "Epoch 4/5\n",
            "1500/1500 [==============================] - 3s 2ms/step - loss: 0.3286 - accuracy: 0.8807\n",
            "Epoch 5/5\n",
            "1500/1500 [==============================] - 3s 2ms/step - loss: 0.3098 - accuracy: 0.8849\n",
            "375/375 [==============================] - 1s 1ms/step - loss: 0.3316 - accuracy: 0.8834\n"
          ],
          "name": "stdout"
        },
        {
          "output_type": "execute_result",
          "data": {
            "text/plain": [
              "[0.3316112458705902, 0.8834166526794434]"
            ]
          },
          "metadata": {
            "tags": []
          },
          "execution_count": 38
        }
      ]
    },
    {
      "cell_type": "markdown",
      "metadata": {
        "id": "Nmi3UWlJpnpB"
      },
      "source": [
        "신경망 층이 특성공학 역할을 많은 부분 해주기 때문에 이미지, 텍스트 등에서 특성을 찾을 수 있음(자동으로 특성을 학습)  \n",
        "\n",
        "특성 공학 : 특성을 수동으로 뽑아야 함"
      ]
    },
    {
      "cell_type": "code",
      "metadata": {
        "id": "9iaq4TI7pnrg"
      },
      "source": [
        ""
      ],
      "execution_count": null,
      "outputs": []
    },
    {
      "cell_type": "code",
      "metadata": {
        "id": "qz12TI5Zpnt6"
      },
      "source": [
        ""
      ],
      "execution_count": null,
      "outputs": []
    },
    {
      "cell_type": "code",
      "metadata": {
        "id": "n7XcempYpnwc"
      },
      "source": [
        ""
      ],
      "execution_count": null,
      "outputs": []
    },
    {
      "cell_type": "code",
      "metadata": {
        "id": "3Khbsgvppny6"
      },
      "source": [
        ""
      ],
      "execution_count": null,
      "outputs": []
    },
    {
      "cell_type": "code",
      "metadata": {
        "id": "YFi_KDFnpn14"
      },
      "source": [
        ""
      ],
      "execution_count": null,
      "outputs": []
    },
    {
      "cell_type": "code",
      "metadata": {
        "id": "DiAWl75gpn3i"
      },
      "source": [
        ""
      ],
      "execution_count": null,
      "outputs": []
    }
  ]
}