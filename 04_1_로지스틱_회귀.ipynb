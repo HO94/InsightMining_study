{
  "nbformat": 4,
  "nbformat_minor": 0,
  "metadata": {
    "colab": {
      "name": "04-1 로지스틱 회귀",
      "provenance": [],
      "authorship_tag": "ABX9TyMq108hi7oB0bihR/6Qyk4G",
      "include_colab_link": true
    },
    "kernelspec": {
      "name": "python3",
      "display_name": "Python 3"
    }
  },
  "cells": [
    {
      "cell_type": "markdown",
      "metadata": {
        "id": "view-in-github",
        "colab_type": "text"
      },
      "source": [
        "<a href=\"https://colab.research.google.com/github/HO94/InsightMining_study/blob/main/04_1_%EB%A1%9C%EC%A7%80%EC%8A%A4%ED%8B%B1_%ED%9A%8C%EA%B7%80.ipynb\" target=\"_parent\"><img src=\"https://colab.research.google.com/assets/colab-badge.svg\" alt=\"Open In Colab\"/></a>"
      ]
    },
    {
      "cell_type": "code",
      "metadata": {
        "colab": {
          "base_uri": "https://localhost:8080/",
          "height": 195
        },
        "id": "9YMbJ1wCrdAm",
        "outputId": "2b83f31e-c576-4949-ed3c-9a4e42c8e932"
      },
      "source": [
        "import pandas as pd\r\n",
        "fish = pd.read_csv('https://bit.ly/fish_csv')\r\n",
        "fish.head()"
      ],
      "execution_count": null,
      "outputs": [
        {
          "output_type": "execute_result",
          "data": {
            "text/html": [
              "<div>\n",
              "<style scoped>\n",
              "    .dataframe tbody tr th:only-of-type {\n",
              "        vertical-align: middle;\n",
              "    }\n",
              "\n",
              "    .dataframe tbody tr th {\n",
              "        vertical-align: top;\n",
              "    }\n",
              "\n",
              "    .dataframe thead th {\n",
              "        text-align: right;\n",
              "    }\n",
              "</style>\n",
              "<table border=\"1\" class=\"dataframe\">\n",
              "  <thead>\n",
              "    <tr style=\"text-align: right;\">\n",
              "      <th></th>\n",
              "      <th>Species</th>\n",
              "      <th>Weight</th>\n",
              "      <th>Length</th>\n",
              "      <th>Diagonal</th>\n",
              "      <th>Height</th>\n",
              "      <th>Width</th>\n",
              "    </tr>\n",
              "  </thead>\n",
              "  <tbody>\n",
              "    <tr>\n",
              "      <th>0</th>\n",
              "      <td>Bream</td>\n",
              "      <td>242.0</td>\n",
              "      <td>25.4</td>\n",
              "      <td>30.0</td>\n",
              "      <td>11.5200</td>\n",
              "      <td>4.0200</td>\n",
              "    </tr>\n",
              "    <tr>\n",
              "      <th>1</th>\n",
              "      <td>Bream</td>\n",
              "      <td>290.0</td>\n",
              "      <td>26.3</td>\n",
              "      <td>31.2</td>\n",
              "      <td>12.4800</td>\n",
              "      <td>4.3056</td>\n",
              "    </tr>\n",
              "    <tr>\n",
              "      <th>2</th>\n",
              "      <td>Bream</td>\n",
              "      <td>340.0</td>\n",
              "      <td>26.5</td>\n",
              "      <td>31.1</td>\n",
              "      <td>12.3778</td>\n",
              "      <td>4.6961</td>\n",
              "    </tr>\n",
              "    <tr>\n",
              "      <th>3</th>\n",
              "      <td>Bream</td>\n",
              "      <td>363.0</td>\n",
              "      <td>29.0</td>\n",
              "      <td>33.5</td>\n",
              "      <td>12.7300</td>\n",
              "      <td>4.4555</td>\n",
              "    </tr>\n",
              "    <tr>\n",
              "      <th>4</th>\n",
              "      <td>Bream</td>\n",
              "      <td>430.0</td>\n",
              "      <td>29.0</td>\n",
              "      <td>34.0</td>\n",
              "      <td>12.4440</td>\n",
              "      <td>5.1340</td>\n",
              "    </tr>\n",
              "  </tbody>\n",
              "</table>\n",
              "</div>"
            ],
            "text/plain": [
              "  Species  Weight  Length  Diagonal   Height   Width\n",
              "0   Bream   242.0    25.4      30.0  11.5200  4.0200\n",
              "1   Bream   290.0    26.3      31.2  12.4800  4.3056\n",
              "2   Bream   340.0    26.5      31.1  12.3778  4.6961\n",
              "3   Bream   363.0    29.0      33.5  12.7300  4.4555\n",
              "4   Bream   430.0    29.0      34.0  12.4440  5.1340"
            ]
          },
          "metadata": {
            "tags": []
          },
          "execution_count": 1
        }
      ]
    },
    {
      "cell_type": "code",
      "metadata": {
        "colab": {
          "base_uri": "https://localhost:8080/"
        },
        "id": "E-72DK7msVxX",
        "outputId": "cab1b45e-e74f-4505-ef05-f1868714d1ac"
      },
      "source": [
        "print(pd.unique(fish['Species']))"
      ],
      "execution_count": null,
      "outputs": [
        {
          "output_type": "stream",
          "text": [
            "['Bream' 'Roach' 'Whitefish' 'Parkki' 'Perch' 'Pike' 'Smelt']\n"
          ],
          "name": "stdout"
        }
      ]
    },
    {
      "cell_type": "code",
      "metadata": {
        "id": "8gKAJxjcsk-6"
      },
      "source": [
        "fish_Input = fish[['Weight','Length','Diagonal','Height','Width']].to_numpy()"
      ],
      "execution_count": null,
      "outputs": []
    },
    {
      "cell_type": "code",
      "metadata": {
        "colab": {
          "base_uri": "https://localhost:8080/"
        },
        "id": "AtlLukDss4ig",
        "outputId": "bb78ee3d-683b-4b78-fa99-c3a2e5163bb9"
      },
      "source": [
        "print(fish_Input[:5])"
      ],
      "execution_count": null,
      "outputs": [
        {
          "output_type": "stream",
          "text": [
            "[[242.      25.4     30.      11.52     4.02  ]\n",
            " [290.      26.3     31.2     12.48     4.3056]\n",
            " [340.      26.5     31.1     12.3778   4.6961]\n",
            " [363.      29.      33.5     12.73     4.4555]\n",
            " [430.      29.      34.      12.444    5.134 ]]\n"
          ],
          "name": "stdout"
        }
      ]
    },
    {
      "cell_type": "code",
      "metadata": {
        "colab": {
          "base_uri": "https://localhost:8080/"
        },
        "id": "r9oAfHeNs7QM",
        "outputId": "4abf1bd3-70f5-49c9-cad2-15fdeb6a2f90"
      },
      "source": [
        "fish[['Weight','Length']].to_numpy()[:5]"
      ],
      "execution_count": null,
      "outputs": [
        {
          "output_type": "execute_result",
          "data": {
            "text/plain": [
              "array([[242. ,  25.4],\n",
              "       [290. ,  26.3],\n",
              "       [340. ,  26.5],\n",
              "       [363. ,  29. ],\n",
              "       [430. ,  29. ]])"
            ]
          },
          "metadata": {
            "tags": []
          },
          "execution_count": 22
        }
      ]
    },
    {
      "cell_type": "code",
      "metadata": {
        "colab": {
          "base_uri": "https://localhost:8080/",
          "height": 402
        },
        "id": "MKkK1kiNtPRS",
        "outputId": "108ae048-188a-47f8-8c6c-dbe559107a06"
      },
      "source": [
        "fish[['Weight','Length']]"
      ],
      "execution_count": null,
      "outputs": [
        {
          "output_type": "execute_result",
          "data": {
            "text/html": [
              "<div>\n",
              "<style scoped>\n",
              "    .dataframe tbody tr th:only-of-type {\n",
              "        vertical-align: middle;\n",
              "    }\n",
              "\n",
              "    .dataframe tbody tr th {\n",
              "        vertical-align: top;\n",
              "    }\n",
              "\n",
              "    .dataframe thead th {\n",
              "        text-align: right;\n",
              "    }\n",
              "</style>\n",
              "<table border=\"1\" class=\"dataframe\">\n",
              "  <thead>\n",
              "    <tr style=\"text-align: right;\">\n",
              "      <th></th>\n",
              "      <th>Weight</th>\n",
              "      <th>Length</th>\n",
              "    </tr>\n",
              "  </thead>\n",
              "  <tbody>\n",
              "    <tr>\n",
              "      <th>0</th>\n",
              "      <td>242.0</td>\n",
              "      <td>25.4</td>\n",
              "    </tr>\n",
              "    <tr>\n",
              "      <th>1</th>\n",
              "      <td>290.0</td>\n",
              "      <td>26.3</td>\n",
              "    </tr>\n",
              "    <tr>\n",
              "      <th>2</th>\n",
              "      <td>340.0</td>\n",
              "      <td>26.5</td>\n",
              "    </tr>\n",
              "    <tr>\n",
              "      <th>3</th>\n",
              "      <td>363.0</td>\n",
              "      <td>29.0</td>\n",
              "    </tr>\n",
              "    <tr>\n",
              "      <th>4</th>\n",
              "      <td>430.0</td>\n",
              "      <td>29.0</td>\n",
              "    </tr>\n",
              "    <tr>\n",
              "      <th>...</th>\n",
              "      <td>...</td>\n",
              "      <td>...</td>\n",
              "    </tr>\n",
              "    <tr>\n",
              "      <th>154</th>\n",
              "      <td>12.2</td>\n",
              "      <td>12.2</td>\n",
              "    </tr>\n",
              "    <tr>\n",
              "      <th>155</th>\n",
              "      <td>13.4</td>\n",
              "      <td>12.4</td>\n",
              "    </tr>\n",
              "    <tr>\n",
              "      <th>156</th>\n",
              "      <td>12.2</td>\n",
              "      <td>13.0</td>\n",
              "    </tr>\n",
              "    <tr>\n",
              "      <th>157</th>\n",
              "      <td>19.7</td>\n",
              "      <td>14.3</td>\n",
              "    </tr>\n",
              "    <tr>\n",
              "      <th>158</th>\n",
              "      <td>19.9</td>\n",
              "      <td>15.0</td>\n",
              "    </tr>\n",
              "  </tbody>\n",
              "</table>\n",
              "<p>159 rows × 2 columns</p>\n",
              "</div>"
            ],
            "text/plain": [
              "     Weight  Length\n",
              "0     242.0    25.4\n",
              "1     290.0    26.3\n",
              "2     340.0    26.5\n",
              "3     363.0    29.0\n",
              "4     430.0    29.0\n",
              "..      ...     ...\n",
              "154    12.2    12.2\n",
              "155    13.4    12.4\n",
              "156    12.2    13.0\n",
              "157    19.7    14.3\n",
              "158    19.9    15.0\n",
              "\n",
              "[159 rows x 2 columns]"
            ]
          },
          "metadata": {
            "tags": []
          },
          "execution_count": 24
        }
      ]
    },
    {
      "cell_type": "code",
      "metadata": {
        "colab": {
          "base_uri": "https://localhost:8080/"
        },
        "id": "XBhbQwnMtmJP",
        "outputId": "dfb6c509-d7de-408f-c114-8434f32706b7"
      },
      "source": [
        "fish_target = fish['Species'].to_numpy()  # 왜 넘파이로 바꾸는지\r\n",
        "fish_target"
      ],
      "execution_count": null,
      "outputs": [
        {
          "output_type": "execute_result",
          "data": {
            "text/plain": [
              "array(['Bream', 'Bream', 'Bream', 'Bream', 'Bream', 'Bream', 'Bream',\n",
              "       'Bream', 'Bream', 'Bream', 'Bream', 'Bream', 'Bream', 'Bream',\n",
              "       'Bream', 'Bream', 'Bream', 'Bream', 'Bream', 'Bream', 'Bream',\n",
              "       'Bream', 'Bream', 'Bream', 'Bream', 'Bream', 'Bream', 'Bream',\n",
              "       'Bream', 'Bream', 'Bream', 'Bream', 'Bream', 'Bream', 'Bream',\n",
              "       'Roach', 'Roach', 'Roach', 'Roach', 'Roach', 'Roach', 'Roach',\n",
              "       'Roach', 'Roach', 'Roach', 'Roach', 'Roach', 'Roach', 'Roach',\n",
              "       'Roach', 'Roach', 'Roach', 'Roach', 'Roach', 'Roach', 'Whitefish',\n",
              "       'Whitefish', 'Whitefish', 'Whitefish', 'Whitefish', 'Whitefish',\n",
              "       'Parkki', 'Parkki', 'Parkki', 'Parkki', 'Parkki', 'Parkki',\n",
              "       'Parkki', 'Parkki', 'Parkki', 'Parkki', 'Parkki', 'Perch', 'Perch',\n",
              "       'Perch', 'Perch', 'Perch', 'Perch', 'Perch', 'Perch', 'Perch',\n",
              "       'Perch', 'Perch', 'Perch', 'Perch', 'Perch', 'Perch', 'Perch',\n",
              "       'Perch', 'Perch', 'Perch', 'Perch', 'Perch', 'Perch', 'Perch',\n",
              "       'Perch', 'Perch', 'Perch', 'Perch', 'Perch', 'Perch', 'Perch',\n",
              "       'Perch', 'Perch', 'Perch', 'Perch', 'Perch', 'Perch', 'Perch',\n",
              "       'Perch', 'Perch', 'Perch', 'Perch', 'Perch', 'Perch', 'Perch',\n",
              "       'Perch', 'Perch', 'Perch', 'Perch', 'Perch', 'Perch', 'Perch',\n",
              "       'Perch', 'Perch', 'Perch', 'Perch', 'Perch', 'Pike', 'Pike',\n",
              "       'Pike', 'Pike', 'Pike', 'Pike', 'Pike', 'Pike', 'Pike', 'Pike',\n",
              "       'Pike', 'Pike', 'Pike', 'Pike', 'Pike', 'Pike', 'Pike', 'Smelt',\n",
              "       'Smelt', 'Smelt', 'Smelt', 'Smelt', 'Smelt', 'Smelt', 'Smelt',\n",
              "       'Smelt', 'Smelt', 'Smelt', 'Smelt', 'Smelt', 'Smelt'], dtype=object)"
            ]
          },
          "metadata": {
            "tags": []
          },
          "execution_count": 33
        }
      ]
    },
    {
      "cell_type": "code",
      "metadata": {
        "id": "TZsW3Q4Dt1L0"
      },
      "source": [
        "from sklearn.model_selection import train_test_split\r\n",
        "\r\n",
        "train_input, test_input, train_target, test_target = train_test_split(fish_Input, fish_target, random_state = 42)"
      ],
      "execution_count": null,
      "outputs": []
    },
    {
      "cell_type": "code",
      "metadata": {
        "id": "IMWt38vquHxl"
      },
      "source": [
        "from sklearn.preprocessing import StandardScaler\r\n",
        "ss = StandardScaler()\r\n",
        "ss.fit(train_input)\r\n",
        "train_scaled = ss.transform(train_input)\r\n",
        "test_scaled = ss.transform(test_input)"
      ],
      "execution_count": null,
      "outputs": []
    },
    {
      "cell_type": "code",
      "metadata": {
        "colab": {
          "base_uri": "https://localhost:8080/"
        },
        "id": "byKJNcHDvxf6",
        "outputId": "02d4c6c2-cc8b-43a7-d78f-6279cbcdaa19"
      },
      "source": [
        "train_input[:5]"
      ],
      "execution_count": null,
      "outputs": [
        {
          "output_type": "execute_result",
          "data": {
            "text/plain": [
              "array([[720.    ,  35.    ,  40.6   ,  16.3618,   6.09  ],\n",
              "       [500.    ,  45.    ,  48.    ,   6.96  ,   4.896 ],\n",
              "       [  7.5   ,  10.5   ,  11.6   ,   1.972 ,   1.16  ],\n",
              "       [110.    ,  22.    ,  23.5   ,   5.5225,   3.995 ],\n",
              "       [140.    ,  20.7   ,  23.2   ,   8.5376,   3.2944]])"
            ]
          },
          "metadata": {
            "tags": []
          },
          "execution_count": 42
        }
      ]
    },
    {
      "cell_type": "code",
      "metadata": {
        "colab": {
          "base_uri": "https://localhost:8080/"
        },
        "id": "XRr2qrSIv6pz",
        "outputId": "939466be-46d9-4549-81a1-2bfc79f805e1"
      },
      "source": [
        "train_scaled[:5]"
      ],
      "execution_count": null,
      "outputs": [
        {
          "output_type": "execute_result",
          "data": {
            "text/plain": [
              "array([[ 0.91965782,  0.60943175,  0.81041221,  1.85194896,  1.00075672],\n",
              "       [ 0.30041219,  1.54653445,  1.45316551, -0.46981663,  0.27291745],\n",
              "       [-1.0858536 , -1.68646987, -1.70848587, -1.70159849, -2.0044758 ],\n",
              "       [-0.79734143, -0.60880176, -0.67486907, -0.82480589, -0.27631471],\n",
              "       [-0.71289885, -0.73062511, -0.70092664, -0.0802298 , -0.7033869 ]])"
            ]
          },
          "metadata": {
            "tags": []
          },
          "execution_count": 43
        }
      ]
    },
    {
      "cell_type": "code",
      "metadata": {
        "colab": {
          "base_uri": "https://localhost:8080/"
        },
        "id": "LfLJ3RuIuJ-K",
        "outputId": "ba555805-ec89-4a01-b642-8e52533702ca"
      },
      "source": [
        "from sklearn.neighbors import KNeighborsClassifier\r\n",
        "\r\n",
        "kn = KNeighborsClassifier(n_neighbors = 3)\r\n",
        "kn.fit(train_scaled, train_target)\r\n",
        "print(kn.score(train_scaled, train_target))\r\n",
        "print(kn.score(test_scaled, test_target))"
      ],
      "execution_count": null,
      "outputs": [
        {
          "output_type": "stream",
          "text": [
            "0.8907563025210085\n",
            "0.85\n"
          ],
          "name": "stdout"
        }
      ]
    },
    {
      "cell_type": "code",
      "metadata": {
        "colab": {
          "base_uri": "https://localhost:8080/"
        },
        "id": "vUykbar9vhta",
        "outputId": "57ca9e49-8d98-4194-c98c-014e47957bd6"
      },
      "source": [
        "print(kn.classes_)"
      ],
      "execution_count": null,
      "outputs": [
        {
          "output_type": "stream",
          "text": [
            "['Bream' 'Parkki' 'Perch' 'Pike' 'Roach' 'Smelt' 'Whitefish']\n"
          ],
          "name": "stdout"
        }
      ]
    },
    {
      "cell_type": "code",
      "metadata": {
        "colab": {
          "base_uri": "https://localhost:8080/"
        },
        "id": "OfMO8m6PwxLG",
        "outputId": "5917bbec-d8e8-4b47-8d1e-abcc245b3c69"
      },
      "source": [
        "print(kn.predict(test_scaled[:5]))"
      ],
      "execution_count": null,
      "outputs": [
        {
          "output_type": "stream",
          "text": [
            "['Perch' 'Smelt' 'Pike' 'Perch' 'Perch']\n"
          ],
          "name": "stdout"
        }
      ]
    },
    {
      "cell_type": "code",
      "metadata": {
        "colab": {
          "base_uri": "https://localhost:8080/"
        },
        "id": "bEOR8i2Dw3zL",
        "outputId": "d7ddd81f-d1ff-42df-bc59-46011c326234"
      },
      "source": [
        "import numpy as np\r\n",
        "\r\n",
        "proba = kn.predict_proba(test_scaled[:5])\r\n",
        "print(np.round(proba, decimals = 4))"
      ],
      "execution_count": null,
      "outputs": [
        {
          "output_type": "stream",
          "text": [
            "[[0.     0.     1.     0.     0.     0.     0.    ]\n",
            " [0.     0.     0.     0.     0.     1.     0.    ]\n",
            " [0.     0.     0.     1.     0.     0.     0.    ]\n",
            " [0.     0.     0.6667 0.     0.3333 0.     0.    ]\n",
            " [0.     0.     0.6667 0.     0.3333 0.     0.    ]]\n"
          ],
          "name": "stdout"
        }
      ]
    },
    {
      "cell_type": "code",
      "metadata": {
        "colab": {
          "base_uri": "https://localhost:8080/"
        },
        "id": "Ru9LelkTxJCZ",
        "outputId": "d1290af6-019f-4b41-bf67-926176fdbbcf"
      },
      "source": [
        "distances, indexes = kn.kneighbors(test_scaled[3:4])\r\n",
        "print(train_target[indexes])"
      ],
      "execution_count": null,
      "outputs": [
        {
          "output_type": "stream",
          "text": [
            "[['Roach' 'Perch' 'Perch']]\n"
          ],
          "name": "stdout"
        }
      ]
    },
    {
      "cell_type": "code",
      "metadata": {
        "colab": {
          "base_uri": "https://localhost:8080/"
        },
        "id": "1LF1Elo7xe9J",
        "outputId": "4c6f0d69-1fc9-4810-f445-d616d2138e78"
      },
      "source": [
        "distances, indexes = kn.kneighbors(test_scaled[3:4])\r\n",
        "print(train_target)\r\n",
        "print(indexes)"
      ],
      "execution_count": null,
      "outputs": [
        {
          "output_type": "stream",
          "text": [
            "['Bream' 'Pike' 'Smelt' 'Perch' 'Parkki' 'Roach' 'Perch' 'Bream' 'Perch'\n",
            " 'Perch' 'Perch' 'Bream' 'Perch' 'Parkki' 'Perch' 'Bream' 'Smelt' 'Perch'\n",
            " 'Roach' 'Bream' 'Pike' 'Bream' 'Pike' 'Perch' 'Parkki' 'Bream' 'Perch'\n",
            " 'Pike' 'Bream' 'Perch' 'Parkki' 'Roach' 'Perch' 'Bream' 'Roach' 'Perch'\n",
            " 'Bream' 'Bream' 'Perch' 'Perch' 'Roach' 'Pike' 'Perch' 'Smelt' 'Pike'\n",
            " 'Roach' 'Perch' 'Parkki' 'Perch' 'Bream' 'Perch' 'Smelt' 'Perch' 'Parkki'\n",
            " 'Smelt' 'Perch' 'Perch' 'Roach' 'Bream' 'Perch' 'Perch' 'Roach' 'Roach'\n",
            " 'Perch' 'Perch' 'Bream' 'Roach' 'Bream' 'Roach' 'Parkki' 'Perch' 'Perch'\n",
            " 'Perch' 'Perch' 'Pike' 'Pike' 'Perch' 'Bream' 'Perch' 'Bream' 'Whitefish'\n",
            " 'Pike' 'Bream' 'Bream' 'Roach' 'Perch' 'Pike' 'Bream' 'Pike' 'Parkki'\n",
            " 'Roach' 'Perch' 'Roach' 'Smelt' 'Whitefish' 'Roach' 'Perch' 'Bream'\n",
            " 'Whitefish' 'Smelt' 'Pike' 'Roach' 'Smelt' 'Bream' 'Roach' 'Pike' 'Perch'\n",
            " 'Perch' 'Perch' 'Perch' 'Perch' 'Perch' 'Smelt' 'Bream' 'Parkki' 'Perch'\n",
            " 'Bream' 'Perch' 'Perch']\n",
            "[[104 115 106]]\n"
          ],
          "name": "stdout"
        }
      ]
    },
    {
      "cell_type": "markdown",
      "metadata": {
        "id": "IOaGilTWykVe"
      },
      "source": [
        "로지스틱 회귀"
      ]
    },
    {
      "cell_type": "code",
      "metadata": {
        "colab": {
          "base_uri": "https://localhost:8080/",
          "height": 265
        },
        "id": "40GtusSTynzs",
        "outputId": "00387862-8cd0-4137-a840-5af8cd3bb2b0"
      },
      "source": [
        "import numpy as np\r\n",
        "import matplotlib.pyplot as plt\r\n",
        "\r\n",
        "z = np.arange(-5, 5, 0.1)\r\n",
        "phi = 1 / (1 + np.exp(-z))\r\n",
        "plt.plot(z, phi)\r\n",
        "plt.show()"
      ],
      "execution_count": null,
      "outputs": [
        {
          "output_type": "display_data",
          "data": {
            "image/png": "[encoded data removed]",
            "text/plain": [
              "<Figure size 432x288 with 1 Axes>"
            ]
          },
          "metadata": {
            "tags": [],
            "needs_background": "light"
          }
        }
      ]
    },
    {
      "cell_type": "code",
      "metadata": {
        "colab": {
          "base_uri": "https://localhost:8080/"
        },
        "id": "zBCD416rzMco",
        "outputId": "50cd57c2-d46c-4aa7-ac11-1dd39fdcad9a"
      },
      "source": [
        "char_arr = np.array(['A','B','C','D','E'])\r\n",
        "print(char_arr[[True, False, True, False, False]])"
      ],
      "execution_count": null,
      "outputs": [
        {
          "output_type": "stream",
          "text": [
            "['A' 'C']\n"
          ],
          "name": "stdout"
        }
      ]
    },
    {
      "cell_type": "code",
      "metadata": {
        "id": "qTbhc-Smzv8c"
      },
      "source": [
        "bream_smelt_indexes = (train_target == 'Bream') | (train_target == 'Smelt')\r\n",
        "train_bream_smelt = train_scaled[bream_smelt_indexes]\r\n",
        "target_bream_smelt = train_target[bream_smelt_indexes]"
      ],
      "execution_count": null,
      "outputs": []
    },
    {
      "cell_type": "code",
      "metadata": {
        "colab": {
          "base_uri": "https://localhost:8080/"
        },
        "id": "8JMd4NQt0Lnq",
        "outputId": "07a1767c-fa8a-4836-83a8-1c6a5ed42e65"
      },
      "source": [
        "bream_smelt_indexes"
      ],
      "execution_count": null,
      "outputs": [
        {
          "output_type": "execute_result",
          "data": {
            "text/plain": [
              "array([ True, False,  True, False, False, False, False,  True, False,\n",
              "       False, False,  True, False, False, False,  True,  True, False,\n",
              "       False,  True, False,  True, False, False, False,  True, False,\n",
              "       False,  True, False, False, False, False,  True, False, False,\n",
              "        True,  True, False, False, False, False, False,  True, False,\n",
              "       False, False, False, False,  True, False,  True, False, False,\n",
              "        True, False, False, False,  True, False, False, False, False,\n",
              "       False, False,  True, False,  True, False, False, False, False,\n",
              "       False, False, False, False, False,  True, False,  True, False,\n",
              "       False,  True,  True, False, False, False,  True, False, False,\n",
              "       False, False, False,  True, False, False, False,  True, False,\n",
              "        True, False, False,  True,  True, False, False, False, False,\n",
              "       False, False, False, False,  True,  True, False, False,  True,\n",
              "       False, False])"
            ]
          },
          "metadata": {
            "tags": []
          },
          "execution_count": 62
        }
      ]
    },
    {
      "cell_type": "code",
      "metadata": {
        "colab": {
          "base_uri": "https://localhost:8080/"
        },
        "id": "J_WcFlBK0TTK",
        "outputId": "73b0ab9a-7863-4332-8e23-64a2c1daf235"
      },
      "source": [
        "train_scaled[bream_smelt_indexes]"
      ],
      "execution_count": null,
      "outputs": [
        {
          "output_type": "execute_result",
          "data": {
            "text/plain": [
              "array([[ 0.91965782,  0.60943175,  0.81041221,  1.85194896,  1.00075672],\n",
              "       [-1.0858536 , -1.68646987, -1.70848587, -1.70159849, -2.0044758 ],\n",
              "       [ 0.63818253,  0.56257661,  0.73223951,  1.64473401,  0.50705737],\n",
              "       [ 0.30041219,  0.23459067,  0.42823457,  1.36042157,  0.22329758],\n",
              "       [ 0.9027693 ,  0.70314202,  0.88858491,  1.89027545,  0.85537174],\n",
              "       [-1.0824759 , -1.61150165, -1.62162731, -1.7000674 , -1.92815631],\n",
              "       [ 0.10337949,  0.04717013,  0.23714575,  0.88445197,  0.41799764],\n",
              "       [ 1.49668216,  1.03112796,  1.21864741,  2.44274986,  1.40289707],\n",
              "       [ 0.23004337,  0.23459067,  0.42823457,  1.3336029 ,  0.39983213],\n",
              "       [-0.42579405, -0.29018684, -0.11028847,  0.65627104, -0.26107519],\n",
              "       [ 1.28557569,  0.70314202,  0.89727076,  1.98228866,  1.06683526],\n",
              "       [ 0.93373158,  0.60943175,  0.83646978,  1.85150445,  0.97832415],\n",
              "       [ 0.80706771,  0.60943175,  0.81041221,  1.63137406,  1.0255057 ],\n",
              "       [-1.07262426, -1.52716241, -1.55214047, -1.67235972, -1.86207776],\n",
              "       [ 1.6374198 ,  1.17169337,  1.27076255,  2.41341232,  1.40143407],\n",
              "       [-1.07966115, -1.63961473, -1.67374245, -1.6462819 , -1.87036806],\n",
              "       [-1.05151362, -1.33037084, -1.39579507, -1.47914678, -1.45146425],\n",
              "       [ 0.15967454,  0.11276732,  0.29794674,  1.17051775,  0.29205828],\n",
              "       [ 1.56705098,  1.17169337,  1.32287768,  2.16352457,  1.17174409],\n",
              "       [-0.00921063,  0.1408804 ,  0.3240043 ,  0.94026245,  0.14734384],\n",
              "       [ 0.15967454,  0.1408804 ,  0.33269016,  1.26991474,  0.24109734],\n",
              "       [-0.14994827,  0.32830094,  0.52377898,  1.24719543,  0.3806913 ],\n",
              "       [-0.08520896,  0.04717013,  0.19371647,  0.95507939,  0.00439718],\n",
              "       [ 0.86336276,  0.42201121,  0.62800925,  1.5003429 ,  0.45670601],\n",
              "       [ 0.30041219,  0.11276732,  0.28057503,  1.31303204,  0.50608204],\n",
              "       [-1.07262426, -1.45219419, -1.51739705, -1.62627903, -1.94607798],\n",
              "       [ 0.82114147,  0.51572148,  0.68881023,  1.76102232,  0.5621025 ],\n",
              "       [-1.07937967, -1.54590446, -1.56951218, -1.64420753, -2.01154694],\n",
              "       [-1.07937967, -1.62087268, -1.63899902, -1.67413775, -1.93303295],\n",
              "       [-0.29068592, -0.2058476 , -0.0060582 ,  0.89334213, -0.08697896],\n",
              "       [-1.05095067, -1.26477365, -1.30893652, -1.46447801, -1.56606541],\n",
              "       [ 0.51151865,  0.51572148,  0.7148678 ,  1.54738669,  0.68347   ],\n",
              "       [ 0.58188748,  0.32830094,  0.51509312,  1.50439286,  0.4404302 ]])"
            ]
          },
          "metadata": {
            "tags": []
          },
          "execution_count": 65
        }
      ]
    },
    {
      "cell_type": "code",
      "metadata": {
        "colab": {
          "base_uri": "https://localhost:8080/"
        },
        "id": "0BIXMJpG0Wgd",
        "outputId": "b0a5ed75-48b5-4a77-a917-fffa85959738"
      },
      "source": [
        "from sklearn.linear_model import LogisticRegression\r\n",
        "lr = LogisticRegression()\r\n",
        "lr.fit(train_bream_smelt, target_bream_smelt)"
      ],
      "execution_count": null,
      "outputs": [
        {
          "output_type": "execute_result",
          "data": {
            "text/plain": [
              "LogisticRegression(C=1.0, class_weight=None, dual=False, fit_intercept=True,\n",
              "                   intercept_scaling=1, l1_ratio=None, max_iter=100,\n",
              "                   multi_class='auto', n_jobs=None, penalty='l2',\n",
              "                   random_state=None, solver='lbfgs', tol=0.0001, verbose=0,\n",
              "                   warm_start=False)"
            ]
          },
          "metadata": {
            "tags": []
          },
          "execution_count": 66
        }
      ]
    },
    {
      "cell_type": "code",
      "metadata": {
        "colab": {
          "base_uri": "https://localhost:8080/"
        },
        "id": "uovmx8160tVm",
        "outputId": "54cf6a15-159f-4920-be32-04310db457b5"
      },
      "source": [
        "print(lr.predict(train_bream_smelt[:5]))"
      ],
      "execution_count": null,
      "outputs": [
        {
          "output_type": "stream",
          "text": [
            "['Bream' 'Smelt' 'Bream' 'Bream' 'Bream']\n"
          ],
          "name": "stdout"
        }
      ]
    },
    {
      "cell_type": "code",
      "metadata": {
        "colab": {
          "base_uri": "https://localhost:8080/"
        },
        "id": "F_Oc8n1o0xcj",
        "outputId": "7a9ad3fe-dd00-4736-b196-13eb580be4d6"
      },
      "source": [
        "train_bream_smelt[:5]"
      ],
      "execution_count": null,
      "outputs": [
        {
          "output_type": "execute_result",
          "data": {
            "text/plain": [
              "array([[ 0.91965782,  0.60943175,  0.81041221,  1.85194896,  1.00075672],\n",
              "       [-1.0858536 , -1.68646987, -1.70848587, -1.70159849, -2.0044758 ],\n",
              "       [ 0.63818253,  0.56257661,  0.73223951,  1.64473401,  0.50705737],\n",
              "       [ 0.30041219,  0.23459067,  0.42823457,  1.36042157,  0.22329758],\n",
              "       [ 0.9027693 ,  0.70314202,  0.88858491,  1.89027545,  0.85537174]])"
            ]
          },
          "metadata": {
            "tags": []
          },
          "execution_count": 68
        }
      ]
    },
    {
      "cell_type": "code",
      "metadata": {
        "colab": {
          "base_uri": "https://localhost:8080/"
        },
        "id": "nsgARxwE03Eo",
        "outputId": "f0da31a1-b5d0-4353-dce1-9ec758805e51"
      },
      "source": [
        "print(lr.predict_proba(train_bream_smelt[:5]))"
      ],
      "execution_count": null,
      "outputs": [
        {
          "output_type": "stream",
          "text": [
            "[[0.99759855 0.00240145]\n",
            " [0.02735183 0.97264817]\n",
            " [0.99486072 0.00513928]\n",
            " [0.98584202 0.01415798]\n",
            " [0.99767269 0.00232731]]\n"
          ],
          "name": "stdout"
        }
      ]
    },
    {
      "cell_type": "code",
      "metadata": {
        "colab": {
          "base_uri": "https://localhost:8080/"
        },
        "id": "sLaMcDt-1AFJ",
        "outputId": "c3a6b4c5-6bcc-4e02-ba86-e20c66fcaaf7"
      },
      "source": [
        "print(lr.classes_)"
      ],
      "execution_count": null,
      "outputs": [
        {
          "output_type": "stream",
          "text": [
            "['Bream' 'Smelt']\n"
          ],
          "name": "stdout"
        }
      ]
    },
    {
      "cell_type": "code",
      "metadata": {
        "colab": {
          "base_uri": "https://localhost:8080/"
        },
        "id": "JDMc_OgY1Jmw",
        "outputId": "9ad84c30-13a9-4c39-b383-799d23e49594"
      },
      "source": [
        "print(lr.coef_, lr.intercept_)"
      ],
      "execution_count": null,
      "outputs": [
        {
          "output_type": "stream",
          "text": [
            "[[-0.4037798  -0.57620209 -0.66280298 -1.01290277 -0.73168947]] [-2.16155132]\n"
          ],
          "name": "stdout"
        }
      ]
    },
    {
      "cell_type": "code",
      "metadata": {
        "colab": {
          "base_uri": "https://localhost:8080/"
        },
        "id": "IKkkklpO2LYy",
        "outputId": "f43ca1d1-8a09-419f-e51b-ed1ec0f926e3"
      },
      "source": [
        "print(lr.coef_)"
      ],
      "execution_count": null,
      "outputs": [
        {
          "output_type": "stream",
          "text": [
            "[[-0.4037798  -0.57620209 -0.66280298 -1.01290277 -0.73168947]]\n"
          ],
          "name": "stdout"
        }
      ]
    },
    {
      "cell_type": "code",
      "metadata": {
        "colab": {
          "base_uri": "https://localhost:8080/"
        },
        "id": "fnc6CHIU1SJG",
        "outputId": "f3e47d90-16c5-433b-97da-f37a276ee7cf"
      },
      "source": [
        "decisions = lr.decision_function(train_bream_smelt[:5])\r\n",
        "print(decisions)"
      ],
      "execution_count": null,
      "outputs": [
        {
          "output_type": "stream",
          "text": [
            "[-6.02927744  3.57123907 -5.26568906 -4.24321775 -6.0607117 ]\n"
          ],
          "name": "stdout"
        }
      ]
    },
    {
      "cell_type": "code",
      "metadata": {
        "colab": {
          "base_uri": "https://localhost:8080/"
        },
        "id": "_M3t746k1db6",
        "outputId": "04effd0a-3fc7-449d-fe42-3e8d9751ddff"
      },
      "source": [
        "from scipy.special import expit\r\n",
        "print(expit(decisions))"
      ],
      "execution_count": null,
      "outputs": [
        {
          "output_type": "stream",
          "text": [
            "[0.00240145 0.97264817 0.00513928 0.01415798 0.00232731]\n"
          ],
          "name": "stdout"
        }
      ]
    },
    {
      "cell_type": "code",
      "metadata": {
        "colab": {
          "base_uri": "https://localhost:8080/"
        },
        "id": "HY-lnKWd1tKG",
        "outputId": "5390cac4-9021-4205-f820-838748932694"
      },
      "source": [
        "lr = LogisticRegression(C = 20, max_iter=1000)\r\n",
        "lr.fit(train_scaled, train_target)\r\n",
        "print(lr.score(train_scaled, train_target))\r\n",
        "print(lr.score(test_scaled, test_target))"
      ],
      "execution_count": null,
      "outputs": [
        {
          "output_type": "stream",
          "text": [
            "0.9327731092436975\n",
            "0.925\n"
          ],
          "name": "stdout"
        }
      ]
    },
    {
      "cell_type": "code",
      "metadata": {
        "colab": {
          "base_uri": "https://localhost:8080/"
        },
        "id": "0HM6-GdC2uER",
        "outputId": "2b82523d-159c-44eb-eb05-08edf6b10026"
      },
      "source": [
        "print(lr.predict(test_scaled[:5]))"
      ],
      "execution_count": null,
      "outputs": [
        {
          "output_type": "stream",
          "text": [
            "['Perch' 'Smelt' 'Pike' 'Roach' 'Perch']\n"
          ],
          "name": "stdout"
        }
      ]
    },
    {
      "cell_type": "code",
      "metadata": {
        "colab": {
          "base_uri": "https://localhost:8080/"
        },
        "id": "HrAzGPfL222w",
        "outputId": "c9b60a4f-24bc-4598-f5a5-20781979eeec"
      },
      "source": [
        "proba = lr.predict_proba(test_scaled[:5])\r\n",
        "print(np.round(proba, decimals=3))"
      ],
      "execution_count": null,
      "outputs": [
        {
          "output_type": "stream",
          "text": [
            "[[0.    0.014 0.841 0.    0.136 0.007 0.003]\n",
            " [0.    0.003 0.044 0.    0.007 0.946 0.   ]\n",
            " [0.    0.    0.034 0.935 0.015 0.016 0.   ]\n",
            " [0.011 0.034 0.306 0.007 0.567 0.    0.076]\n",
            " [0.    0.    0.904 0.002 0.089 0.002 0.001]]\n"
          ],
          "name": "stdout"
        }
      ]
    },
    {
      "cell_type": "code",
      "metadata": {
        "colab": {
          "base_uri": "https://localhost:8080/"
        },
        "id": "rMNiNQ5T3BzF",
        "outputId": "f2551765-f51f-4905-a978-95b3f710f450"
      },
      "source": [
        "print(lr.classes_)"
      ],
      "execution_count": null,
      "outputs": [
        {
          "output_type": "stream",
          "text": [
            "['Bream' 'Parkki' 'Perch' 'Pike' 'Roach' 'Smelt' 'Whitefish']\n"
          ],
          "name": "stdout"
        }
      ]
    },
    {
      "cell_type": "code",
      "metadata": {
        "colab": {
          "base_uri": "https://localhost:8080/"
        },
        "id": "4JAk2q8O3uSE",
        "outputId": "da89e27f-65be-40f2-b163-c9c04639a352"
      },
      "source": [
        "print(lr.coef_.shape, lr.intercept_.shape)"
      ],
      "execution_count": null,
      "outputs": [
        {
          "output_type": "stream",
          "text": [
            "(7, 5) (7,)\n"
          ],
          "name": "stdout"
        }
      ]
    },
    {
      "cell_type": "code",
      "metadata": {
        "colab": {
          "base_uri": "https://localhost:8080/"
        },
        "id": "IAeSIsAd35Vb",
        "outputId": "07c60e33-e110-4578-88e8-615af1f5eea0"
      },
      "source": [
        "lr.coef_"
      ],
      "execution_count": null,
      "outputs": [
        {
          "output_type": "execute_result",
          "data": {
            "text/plain": [
              "array([[-1.49002872, -1.02918727,  2.59350663,  7.70354602, -1.20068248],\n",
              "       [ 0.19619159, -2.01061244, -3.77982242,  6.50490234, -1.99486186],\n",
              "       [ 3.56278587,  6.34361096, -8.48973195, -5.75756378,  3.79308915],\n",
              "       [-0.10458459,  3.60316876,  3.9306745 , -3.61731612, -1.7507051 ],\n",
              "       [-1.40059312, -6.07505122,  5.2596788 , -0.87222704,  1.86043634],\n",
              "       [-1.38528404,  1.49217179,  1.39228237, -5.67732743, -4.40095987],\n",
              "       [ 0.62151302, -2.32410058, -0.90658793,  1.71598602,  3.69368381]])"
            ]
          },
          "metadata": {
            "tags": []
          },
          "execution_count": 83
        }
      ]
    },
    {
      "cell_type": "code",
      "metadata": {
        "colab": {
          "base_uri": "https://localhost:8080/"
        },
        "id": "UBEz_Bhf3-bs",
        "outputId": "fdfb34f2-a0fe-4b76-c0d6-5dedd0426f43"
      },
      "source": [
        "decision = lr.decision_function(test_scaled[:5])\r\n",
        "print(np.round(decision, decimals=2))"
      ],
      "execution_count": null,
      "outputs": [
        {
          "output_type": "stream",
          "text": [
            "[[ -6.5    1.03   5.16  -2.73   3.34   0.33  -0.63]\n",
            " [-10.86   1.93   4.77  -2.4    2.98   7.84  -4.26]\n",
            " [ -4.34  -6.23   3.17   6.49   2.36   2.42  -3.87]\n",
            " [ -0.68   0.45   2.65  -1.19   3.26  -5.75   1.26]\n",
            " [ -6.4   -1.99   5.82  -0.11   3.5   -0.11  -0.71]]\n"
          ],
          "name": "stdout"
        }
      ]
    },
    {
      "cell_type": "code",
      "metadata": {
        "colab": {
          "base_uri": "https://localhost:8080/"
        },
        "id": "ViUE4qkf5JbN",
        "outputId": "4c34d2a2-03e0-4399-c771-c448fcc078be"
      },
      "source": [
        "from scipy.special import softmax\r\n",
        "proba = softmax(decision, axis = 1)\r\n",
        "print(np.round(proba, decimals = 3))"
      ],
      "execution_count": null,
      "outputs": [
        {
          "output_type": "stream",
          "text": [
            "[[0.    0.014 0.841 0.    0.136 0.007 0.003]\n",
            " [0.    0.003 0.044 0.    0.007 0.946 0.   ]\n",
            " [0.    0.    0.034 0.935 0.015 0.016 0.   ]\n",
            " [0.011 0.034 0.306 0.007 0.567 0.    0.076]\n",
            " [0.    0.    0.904 0.002 0.089 0.002 0.001]]\n"
          ],
          "name": "stdout"
        }
      ]
    },
    {
      "cell_type": "code",
      "metadata": {
        "id": "F7Aju4Qw5ioS"
      },
      "source": [
        ""
      ],
      "execution_count": null,
      "outputs": []
    }
  ]
}