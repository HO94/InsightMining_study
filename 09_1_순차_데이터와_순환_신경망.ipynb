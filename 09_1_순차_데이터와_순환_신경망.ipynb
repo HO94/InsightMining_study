{
  "nbformat": 4,
  "nbformat_minor": 0,
  "metadata": {
    "colab": {
      "name": "09-1 순차 데이터와 순환 신경망",
      "provenance": [],
      "authorship_tag": "ABX9TyMImkKnEBNfFmf5r4beEfIH",
      "include_colab_link": true
    },
    "kernelspec": {
      "name": "python3",
      "display_name": "Python 3"
    },
    "language_info": {
      "name": "python"
    }
  },
  "cells": [
    {
      "cell_type": "markdown",
      "metadata": {
        "id": "view-in-github",
        "colab_type": "text"
      },
      "source": [
        "<a href=\"https://colab.research.google.com/github/HO94/InsightMining_HonGong/blob/main/09_1_%EC%88%9C%EC%B0%A8_%EB%8D%B0%EC%9D%B4%ED%84%B0%EC%99%80_%EC%88%9C%ED%99%98_%EC%8B%A0%EA%B2%BD%EB%A7%9D.ipynb\" target=\"_parent\"><img src=\"https://colab.research.google.com/assets/colab-badge.svg\" alt=\"Open In Colab\"/></a>"
      ]
    },
    {
      "cell_type": "markdown",
      "metadata": {
        "id": "44iPKrhHmcwW"
      },
      "source": [
        "# 순차 데이터"
      ]
    },
    {
      "cell_type": "markdown",
      "metadata": {
        "id": "V-pld9EHmnGz"
      },
      "source": [
        "**순차 데이터**<sup>sequential data</sup>는 텍스트나 **시계열 데이터**<sup>time serise data</sup>와 같이 순서에 의미가 있는 데이터를 말함"
      ]
    },
    {
      "cell_type": "markdown",
      "metadata": {
        "id": "1fcyVjlCm4CT"
      },
      "source": [
        "입력 데이터의 흐름이 앞으로만 전달되는 신경망을 **피드포워드 신경망**<sup>feedforword neural network</sup>라고 함"
      ]
    },
    {
      "cell_type": "markdown",
      "metadata": {
        "id": "Ze4hAeH1nKjN"
      },
      "source": [
        "# 순환 신경망"
      ]
    },
    {
      "cell_type": "markdown",
      "metadata": {
        "id": "abTJfFk0nWSt"
      },
      "source": [
        "**순환 신경망**<sup>recurrent neural network, RNN</sup>은 일반적으로 완전 연결 신경망과 비슷  \n",
        "완전 연결 신경망에 이전 데이터의 처리 흐름을 순환하는 고리 하나만 추가하면 됨  \n",
        "샘플을 처리하는 한 단계를 **타임스텝**<sup>timestep</sup>이라고 함  \n",
        "순환 신경망은 이전 타임스텝의 샘플을 기억하지만 타임스텝이 오래될수록 순환되는 정보는 희미해짐  \n",
        "  \n",
        "순환 신경망에서는 층을 **셀**<sup>cell</sup>이라고 부름  \n",
        "한 셀에는 여러 개의 뉴런이 있지만 완전 연결 신경망과 달리 뉴런을 모두 표시하지 않고 하나의 셀로 층을 표현  \n",
        "셀의 출력을 **은닉상태**<sup>hidden state</sup>라고 부름  \n",
        "  \n",
        "일반적으로 은닉층의 활성화 함수로 하이퍼볼릭 탄전트<sup>hyperbolic tangent</sup>함수인 tanh가 많이 사용됨  \n",
        "tanh 함수도 S자 모양을 띠기 때문에 종종 시그모이드 함수라고 부르기도 함  \n",
        "tanh 함수는 시그모이드 함수와는 달리 -1 ~ 1 사이의 범위를 가짐  \n",
        "순환 신경망 그림에도 번거로움을 피하기 위해 활성화 함수를 표시하지 않는 경우가 많음  \n",
        "  \n",
        "합성곱 신경망 같은 피드포워드 신경망에서 뉴런은 입력과 가중치를 곱함  \n",
        "순환 신경망에서도 동일하지만 가중치가 하나 더 존재함(이전 타임스텝의 은닉 상태에 곱해지는 가중치)  \n",
        "셀은 입력과 이전 타임스텝의 은닉 상태를 사용하여 현재 타임스텝의 은닉 상태를 만듦  \n",
        "모든 타입스텝에서 사용되는 가중치는 $w_{h}$ 하나  \n",
        "가중치 $w_{h}$는 타임스텝에 따라 변화하는 뉴런의 출력을 학습  "
      ]
    },
    {
      "cell_type": "markdown",
      "metadata": {
        "id": "9ejIgqzZps1s"
      },
      "source": [
        "# 셀의 가중치와 입출력"
      ]
    },
    {
      "cell_type": "markdown",
      "metadata": {
        "id": "WA1Y3ThFqE9S"
      },
      "source": [
        "$$ 모델 파라미터 수 = w_{x} + w_{h} + 절편 $$"
      ]
    },
    {
      "cell_type": "markdown",
      "metadata": {
        "id": "JazwknDns_PH"
      },
      "source": [
        ""
      ]
    },
    {
      "cell_type": "markdown",
      "metadata": {
        "id": "uoj6Rn4iqqza"
      },
      "source": [
        "순환층은 일반적으로 샘플마다 2개의 차원을 가짐  \n",
        "보통 하나의 샘플을 하나의 시퀀스<sup>sequence</sup>라고 함  \n",
        "시퀀스의 길이가 타임스텝의 길이  \n",
        "  \n",
        "순환층은 기본적으로 마지막 타임스텝의 은닉 상태만 출력으로 내보냄  \n",
        "입력된 시퀀스 길이를 모두 읽어서 정보를 마지막 은닉 상태에 압축하여 전달하는 것처럼 볼 수 있음  \n",
        "  \n",
        "순환 신경망도 마지막에는 밀집층을 두어 클래스를 분류  \n",
        "다중 분류일 경우에는 출력층에 클래스 개수만틈 뉴런을 두고 소프트맥스 활성화 함수를 사용  \n",
        "이진 분류일 경우에는 하나의 뉴런을 두고 시그모이드 활성화 함수를 사용  \n",
        "합성곱 신경망과 다른 점은 마지막 셀의 출력이 1차원이기 때문에 Flatten 클래스로 펼칠 필요가 없다(셀의 출력을 그대로 밀집층에 사용할 수 있음)  "
      ]
    },
    {
      "cell_type": "code",
      "metadata": {
        "id": "v-ug3W-us7sL"
      },
      "source": [
        ""
      ],
      "execution_count": null,
      "outputs": []
    }
  ]
}