{
  "nbformat": 4,
  "nbformat_minor": 0,
  "metadata": {
    "colab": {
      "name": "04-2 확률적 경사 하강법",
      "provenance": [],
      "collapsed_sections": [],
      "authorship_tag": "ABX9TyNp4wuBAvLTZ9bJtROdRZPg",
      "include_colab_link": true
    },
    "kernelspec": {
      "name": "python3",
      "display_name": "Python 3"
    }
  },
  "cells": [
    {
      "cell_type": "markdown",
      "metadata": {
        "id": "view-in-github",
        "colab_type": "text"
      },
      "source": [
        "<a href=\"https://colab.research.google.com/github/HO94/InsightMining_study/blob/main/04_2_%ED%99%95%EB%A5%A0%EC%A0%81_%EA%B2%BD%EC%82%AC_%ED%95%98%EA%B0%95%EB%B2%95.ipynb\" target=\"_parent\"><img src=\"https://colab.research.google.com/assets/colab-badge.svg\" alt=\"Open In Colab\"/></a>"
      ]
    },
    {
      "cell_type": "markdown",
      "metadata": {
        "id": "3WpMui08jmZn"
      },
      "source": [
        "데이터 불러오기"
      ]
    },
    {
      "cell_type": "code",
      "metadata": {
        "id": "9r8QUr5JIX7p"
      },
      "source": [
        "import pandas as pd\r\n",
        "fish = pd.read_csv('https://bit.ly/fish_csv')"
      ],
      "execution_count": null,
      "outputs": []
    },
    {
      "cell_type": "code",
      "metadata": {
        "id": "fkkCZtG-j0X_"
      },
      "source": [
        "fish_input  = fish[['Weight','Length','Diagonal','Height','Width']].to_numpy()\r\n",
        "fish_target = fish['Species'].to_numpy()"
      ],
      "execution_count": null,
      "outputs": []
    },
    {
      "cell_type": "markdown",
      "metadata": {
        "id": "yCup6CFej3pZ"
      },
      "source": [
        "훈련 세트와 테스트 세트로 나누기"
      ]
    },
    {
      "cell_type": "code",
      "metadata": {
        "id": "0lsTWEMUjPTW"
      },
      "source": [
        "from sklearn.model_selection import train_test_split\r\n",
        "train_input, test_input, train_target, test_target = train_test_split(fish_input, fish_target, random_state = 42 )"
      ],
      "execution_count": null,
      "outputs": []
    },
    {
      "cell_type": "markdown",
      "metadata": {
        "id": "cQEf_pu1jdpw"
      },
      "source": [
        "훈련세트와 테스트 세트의 특성을 표준화 전처리"
      ]
    },
    {
      "cell_type": "code",
      "metadata": {
        "id": "KFWaU__eji2n"
      },
      "source": [
        "from sklearn.preprocessing import StandardScaler\r\n",
        "ss = StandardScaler()\r\n",
        "ss.fit(train_input)\r\n",
        "train_scaled = ss.transform(train_input)\r\n",
        "test_scaled  = ss.transform(test_input)"
      ],
      "execution_count": null,
      "outputs": []
    },
    {
      "cell_type": "markdown",
      "metadata": {
        "id": "Xa953VlDkJ9m"
      },
      "source": [
        "확률적 경사 하강법"
      ]
    },
    {
      "cell_type": "code",
      "metadata": {
        "colab": {
          "base_uri": "https://localhost:8080/"
        },
        "id": "mfm1_bHgkPfY",
        "outputId": "0aa3e619-a162-4408-9290-94b0963d3971"
      },
      "source": [
        "from sklearn.linear_model import SGDClassifier\r\n",
        "\r\n",
        "sc = SGDClassifier(loss = 'log', max_iter = 10, random_state = 42)\r\n",
        "sc.fit(train_scaled, train_target)\r\n",
        "print(sc.score(train_scaled, train_target))\r\n",
        "print(sc.score(test_scaled, test_target))"
      ],
      "execution_count": null,
      "outputs": [
        {
          "output_type": "stream",
          "text": [
            "0.773109243697479\n",
            "0.775\n"
          ],
          "name": "stdout"
        },
        {
          "output_type": "stream",
          "text": [
            "/usr/local/lib/python3.7/dist-packages/sklearn/linear_model/_stochastic_gradient.py:557: ConvergenceWarning: Maximum number of iteration reached before convergence. Consider increasing max_iter to improve the fit.\n",
            "  ConvergenceWarning)\n"
          ],
          "name": "stderr"
        }
      ]
    },
    {
      "cell_type": "markdown",
      "metadata": {
        "id": "dLG8xr46kdFa"
      },
      "source": [
        "partial_fit() 메서드"
      ]
    },
    {
      "cell_type": "code",
      "metadata": {
        "colab": {
          "base_uri": "https://localhost:8080/"
        },
        "id": "sEBA8pVfl8VI",
        "outputId": "3cf41abc-c03f-44e7-cbdc-24e21a2db188"
      },
      "source": [
        "sc.partial_fit(train_scaled, train_target)\r\n",
        "print(sc.score(train_scaled, train_target))\r\n",
        "print(sc.score(test_scaled, test_target))"
      ],
      "execution_count": null,
      "outputs": [
        {
          "output_type": "stream",
          "text": [
            "0.8151260504201681\n",
            "0.825\n"
          ],
          "name": "stdout"
        }
      ]
    },
    {
      "cell_type": "code",
      "metadata": {
        "id": "jggm0jJOpY4_"
      },
      "source": [
        "import numpy as np\r\n",
        "sc = SGDClassifier(loss = 'log', random_state = 42)\r\n",
        "train_score = []\r\n",
        "test_score  = []\r\n",
        "classes     = np.unique(train_target)"
      ],
      "execution_count": null,
      "outputs": []
    },
    {
      "cell_type": "markdown",
      "metadata": {
        "id": "HPsjddpRru80"
      },
      "source": [
        "에포크 300번"
      ]
    },
    {
      "cell_type": "code",
      "metadata": {
        "id": "zuMMme7pppWr"
      },
      "source": [
        "for _ in range(0, 300) :\r\n",
        "  sc.partial_fit(train_scaled, train_target, classes = classes)\r\n",
        "  train_score.append(sc.score(train_scaled, train_target))\r\n",
        "  test_score.append(sc.score(test_scaled, test_target))"
      ],
      "execution_count": null,
      "outputs": []
    },
    {
      "cell_type": "markdown",
      "metadata": {
        "id": "XfJrHNMXmIfU"
      },
      "source": [
        "그래프 그리기"
      ]
    },
    {
      "cell_type": "code",
      "metadata": {
        "colab": {
          "base_uri": "https://localhost:8080/",
          "height": 264
        },
        "id": "IbYuFz30rosg",
        "outputId": "6865509c-42dc-463b-d604-48923ec868d7"
      },
      "source": [
        "import matplotlib.pyplot as plt\r\n",
        "plt.plot(train_score)\r\n",
        "plt.plot(test_score)\r\n",
        "plt.show()"
      ],
      "execution_count": null,
      "outputs": [
        {
          "output_type": "display_data",
          "data": {
            "image/png": "[encoded data removed]",
            "text/plain": [
              "<Figure size 432x288 with 1 Axes>"
            ]
          },
          "metadata": {
            "tags": [],
            "needs_background": "light"
          }
        }
      ]
    },
    {
      "cell_type": "code",
      "metadata": {
        "colab": {
          "base_uri": "https://localhost:8080/",
          "height": 264
        },
        "id": "mwGh0JwRr-HC",
        "outputId": "d1c49444-bbe6-4eb1-900d-1b75840ff0ab"
      },
      "source": [
        "for _ in range(0, 300) :\r\n",
        "  sc.fit(train_scaled, train_target)\r\n",
        "  train_score.append(sc.score(train_scaled, train_target))\r\n",
        "  test_score.append(sc.score(test_scaled, test_target))\r\n",
        "\r\n",
        "plt.plot(train_score)\r\n",
        "plt.plot(test_score)\r\n",
        "plt.show()"
      ],
      "execution_count": null,
      "outputs": [
        {
          "output_type": "display_data",
          "data": {
            "image/png": "[encoded data removed]",
            "text/plain": [
              "<Figure size 432x288 with 1 Axes>"
            ]
          },
          "metadata": {
            "tags": [],
            "needs_background": "light"
          }
        }
      ]
    },
    {
      "cell_type": "markdown",
      "metadata": {
        "id": "pWkTpCzsvXod"
      },
      "source": [
        "에포크 100번"
      ]
    },
    {
      "cell_type": "code",
      "metadata": {
        "colab": {
          "base_uri": "https://localhost:8080/"
        },
        "id": "cIBKNhrQvZC5",
        "outputId": "00900ce3-0b3b-43f3-9647-dd361817559f"
      },
      "source": [
        "sc = SGDClassifier(loss = 'log', max_iter = 100, tol = None, random_state = 42)\r\n",
        "sc.fit(train_scaled, train_target)\r\n",
        "print(sc.score(train_scaled, train_target))\r\n",
        "print(sc.score(test_scaled, test_target))"
      ],
      "execution_count": null,
      "outputs": [
        {
          "output_type": "stream",
          "text": [
            "0.957983193277311\n",
            "0.925\n"
          ],
          "name": "stdout"
        }
      ]
    },
    {
      "cell_type": "markdown",
      "metadata": {
        "id": "EUsmptj3vywt"
      },
      "source": [
        "loss 매개변수"
      ]
    },
    {
      "cell_type": "code",
      "metadata": {
        "colab": {
          "base_uri": "https://localhost:8080/"
        },
        "id": "r0Z7LJr9wk55",
        "outputId": "7f3bf360-9076-491b-d7d4-abc514ae574b"
      },
      "source": [
        "sc = SGDClassifier(loss = 'hinge', max_iter = 100, tol = None, random_state = 42)\r\n",
        "sc.fit(train_scaled, train_target)\r\n",
        "print(sc.score(train_scaled, train_target))\r\n",
        "print(sc.score(test_scaled, test_target))"
      ],
      "execution_count": null,
      "outputs": [
        {
          "output_type": "stream",
          "text": [
            "0.9495798319327731\n",
            "0.925\n"
          ],
          "name": "stdout"
        }
      ]
    }
  ]
}